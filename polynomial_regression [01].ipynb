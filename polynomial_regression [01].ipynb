{
 "cells": [
  {
   "cell_type": "markdown",
   "metadata": {},
   "source": [
    "# Imports"
   ]
  },
  {
   "cell_type": "code",
   "execution_count": 79,
   "metadata": {},
   "outputs": [],
   "source": [
    "import pandas as pd\n",
    "import numpy as np\n",
    "import statsmodels.api as sm\n",
    "import matplotlib.pyplot as plt\n",
    "%matplotlib inline\n",
    "from statsmodels.sandbox.regression.predstd import wls_prediction_std\n",
    "import seaborn as sns\n",
    "from sklearn import svm, preprocessing\n",
    "from sklearn.linear_model import LinearRegression\n",
    "from sklearn.model_selection import KFold, cross_val_score\n",
    "from sklearn.metrics import mean_squared_error, r2_score"
   ]
  },
  {
   "cell_type": "markdown",
   "metadata": {},
   "source": [
    "# Read Data"
   ]
  },
  {
   "cell_type": "code",
   "execution_count": 80,
   "metadata": {},
   "outputs": [],
   "source": [
    "df = pd.DataFrame(np.load(r'../data/master_prepared.npy', allow_pickle=True))\n",
    "cols = np.load(r'../data/columns_prepared.npy', allow_pickle=True)\n",
    "df.columns = cols"
   ]
  },
  {
   "cell_type": "code",
   "execution_count": 115,
   "metadata": {},
   "outputs": [],
   "source": [
    "# Create polynomials\n",
    "\n",
    "df['mv_^0.5'] = df['mv'] ** 0.5\n",
    "\n",
    "df['bvtmv_^2'] = df['bvtmv'] ** 2\n",
    "df['bvtmv_^3'] = df['bvtmv'] ** 3\n"
   ]
  },
  {
   "cell_type": "code",
   "execution_count": 124,
   "metadata": {
    "scrolled": false
   },
   "outputs": [],
   "source": [
    "drop_cols = [\n",
    "    'date',\n",
    "    'eligible',\n",
    "    'companyid', \n",
    "    'ret_3m',\n",
    "    'ret_6m',\n",
    "    'std_3m',\n",
    "    'std_6m',\n",
    "    'map_6m',\n",
    "    'r_1f1',\n",
    "    'r_1f3',\n",
    "    'r_1f6',\n",
    "    'r_1f12'\n",
    "]\n",
    "dates = df['date'].unique()\n",
    "\n",
    "# Regress on next periods return\n",
    "y_col = 'r_1f1'\n",
    "\n",
    "# Independent variables\n",
    "x_cols = [\n",
    "    'bvtmv', \n",
    "    'bvtmv_^2', \n",
    "    'bvtmv_^3', \n",
    "    'ret_12m', \n",
    "    'std_12m', \n",
    "    'fcf', \n",
    "    'mv', \n",
    "    'mv_^0.5', \n",
    "    'roic', \n",
    "    'dy', \n",
    "    'beta', \n",
    "    'so',\n",
    "]\n",
    "# x_cols = [i for i in list(df.columns) if i not in drop_cols]\n",
    "\n",
    "df_eligible = df[df['eligible']==1]\n",
    "X = df_eligible[x_cols].astype('float')\n",
    "y = df_eligible[y_col].astype('float')\n"
   ]
  },
  {
   "cell_type": "code",
   "execution_count": 127,
   "metadata": {},
   "outputs": [
    {
     "name": "stdout",
     "output_type": "stream",
     "text": [
      "X_train:  (1682, 13)\n",
      "y_train:  (1682,)\n",
      "X_test:   (837, 13)\n",
      "y_test:   (837,)\n"
     ]
    },
    {
     "name": "stderr",
     "output_type": "stream",
     "text": [
      "/Library/Frameworks/Python.framework/Versions/3.7/lib/python3.7/site-packages/numpy/core/fromnumeric.py:2542: FutureWarning: Method .ptp is deprecated and will be removed in a future version. Use numpy.ptp instead.\n",
      "  return ptp(axis=axis, out=out, **kwargs)\n"
     ]
    }
   ],
   "source": [
    "# Start index of dates, and index range to regress over\n",
    "start_index = 1\n",
    "train_range = 12\n",
    "\n",
    "train_dates = dates[start_index:start_index+train_range+1]\n",
    "test_dates = dates[start_index+train_range+1]\n",
    "\n",
    "X_train = X[df_eligible['date'].isin(train_dates)].astype('float')\n",
    "X_train = sm.add_constant(X_train)\n",
    "y_train = y[df_eligible['date'].isin(train_dates)].astype('float')\n",
    "\n",
    "X_test = X[df_eligible['date']==test_dates].astype('float')\n",
    "X_test.insert(0, 'const', 1)\n",
    "y_test = y[df_eligible['date']==test_dates].astype('float')\n",
    "\n",
    "# print('Train Range:  ', train_dates)\n",
    "# print('Test Range:  ', test_dates)\n",
    "print('X_train: ', X_train.values.shape)\n",
    "print('y_train: ', y_train.values.shape)\n",
    "print('X_test:  ', X_test.values.shape)\n",
    "print('y_test:  ', y_test.values.shape)\n",
    "\n",
    "# X_train = preprocessing.scale(X_train)\n",
    "# X_test = preprocessing.scale(X_test)"
   ]
  },
  {
   "cell_type": "markdown",
   "metadata": {},
   "source": [
    "# Model"
   ]
  },
  {
   "cell_type": "code",
   "execution_count": 128,
   "metadata": {
    "scrolled": false
   },
   "outputs": [
    {
     "name": "stdout",
     "output_type": "stream",
     "text": [
      "                            OLS Regression Results                            \n",
      "==============================================================================\n",
      "Dep. Variable:                  r_1f1   R-squared:                       0.029\n",
      "Model:                            OLS   Adj. R-squared:                  0.022\n",
      "Method:                 Least Squares   F-statistic:                     4.108\n",
      "Date:                Wed, 05 Feb 2020   Prob (F-statistic):           2.33e-06\n",
      "Time:                        13:59:48   Log-Likelihood:                 1146.1\n",
      "No. Observations:                1682   AIC:                            -2266.\n",
      "Df Residuals:                    1669   BIC:                            -2196.\n",
      "Df Model:                          12                                         \n",
      "Covariance Type:            nonrobust                                         \n",
      "==============================================================================\n",
      "                 coef    std err          t      P>|t|      [0.025      0.975]\n",
      "------------------------------------------------------------------------------\n",
      "const          0.0178      0.013      1.412      0.158      -0.007       0.043\n",
      "bvtmv          0.0415      0.022      1.913      0.056      -0.001       0.084\n",
      "bvtmv_^2      -0.0135      0.015     -0.917      0.359      -0.042       0.015\n",
      "bvtmv_^3       0.0001      0.002      0.048      0.962      -0.004       0.004\n",
      "ret_12m        0.0075      0.007      1.093      0.275      -0.006       0.021\n",
      "std_12m        0.0637      0.021      3.109      0.002       0.024       0.104\n",
      "fcf            0.0012      0.001      1.095      0.274      -0.001       0.003\n",
      "mv          4.044e-06   3.04e-06      1.333      0.183   -1.91e-06       1e-05\n",
      "mv_^0.5       -0.0009      0.000     -2.810      0.005      -0.002      -0.000\n",
      "roic        6.188e-05      0.000      0.522      0.602      -0.000       0.000\n",
      "dy            -0.0028      0.001     -1.869      0.062      -0.006       0.000\n",
      "beta           0.0010      0.005      0.200      0.841      -0.009       0.011\n",
      "so          6.062e-09   6.16e-09      0.985      0.325   -6.01e-09    1.81e-08\n",
      "==============================================================================\n",
      "Omnibus:                     1831.016   Durbin-Watson:                   1.999\n",
      "Prob(Omnibus):                  0.000   Jarque-Bera (JB):           363365.396\n",
      "Skew:                           4.979   Prob(JB):                         0.00\n",
      "Kurtosis:                      74.313   Cond. No.                     9.59e+06\n",
      "==============================================================================\n",
      "\n",
      "Warnings:\n",
      "[1] Standard Errors assume that the covariance matrix of the errors is correctly specified.\n",
      "[2] The condition number is large, 9.59e+06. This might indicate that there are\n",
      "strong multicollinearity or other numerical problems.\n",
      "R2_oos:        -0.5236199727081627\n",
      "R2_is:         0.028691669280753507\n"
     ]
    }
   ],
   "source": [
    "model = sm.OLS(y_train, X_train).fit()\n",
    "pred = model.predict(X_test)\n",
    "\n",
    "# pred.plot()\n",
    "# plt.show()\n",
    "print(model.summary())\n",
    "# print(model.params)\n",
    "print('R2_oos:       ', r2_score(y_test, pred))\n",
    "print('R2_is:        ', model.rsquared)"
   ]
  },
  {
   "cell_type": "code",
   "execution_count": null,
   "metadata": {},
   "outputs": [],
   "source": []
  }
 ],
 "metadata": {
  "kernelspec": {
   "display_name": "Python 3",
   "language": "python",
   "name": "python3"
  },
  "language_info": {
   "codemirror_mode": {
    "name": "ipython",
    "version": 3
   },
   "file_extension": ".py",
   "mimetype": "text/x-python",
   "name": "python",
   "nbconvert_exporter": "python",
   "pygments_lexer": "ipython3",
   "version": "3.7.6"
  }
 },
 "nbformat": 4,
 "nbformat_minor": 2
}
