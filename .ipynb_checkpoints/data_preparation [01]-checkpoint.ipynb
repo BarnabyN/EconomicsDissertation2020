{
 "cells": [
  {
   "cell_type": "code",
   "execution_count": 1,
   "metadata": {},
   "outputs": [],
   "source": [
    "import pandas as pd\n",
    "import numpy as np\n",
    "import matplotlib.pyplot as plt\n",
    "%matplotlib inline\n",
    "import seaborn as sns\n",
    "import datetime as dt"
   ]
  },
  {
   "cell_type": "code",
   "execution_count": 2,
   "metadata": {},
   "outputs": [],
   "source": [
    "dataFolder = r\"C:\\Users\\rfg\\OneDrive\\Desktop\\Dissertation ES30029\\data\""
   ]
  },
  {
   "cell_type": "code",
   "execution_count": 3,
   "metadata": {},
   "outputs": [],
   "source": [
    "# Load master dataframe\n",
    "df = pd.DataFrame(np.load(r'..\\data\\master_initial.npy', allow_pickle=True))\n",
    "cols = np.load(r'..\\data\\columns_initial.npy', allow_pickle=True)\n",
    "df.columns = cols\n",
    "df.drop(['dsindustry6','icbindustry2', 'gilt3m', 'map_18m', 'map_24m', 'map_36m', 'ret_18m', 'ret_24m', 'ret_36m', 'std_18m', 'std_24m', 'std_36m'], axis=1, inplace=True)\n",
    "df[df.columns[2:]] = df[df.columns[2:]].astype('float')\n",
    "df.insert(2, 'eligible', 0)\n",
    "df.insert(15, 'r_t1', np.nan)"
   ]
  },
  {
   "cell_type": "code",
   "execution_count": 4,
   "metadata": {},
   "outputs": [],
   "source": [
    "# Global variables\n",
    "fields = list(df.columns)\n",
    "nonfields = ['date', 'companyid', 'eligible']\n",
    "for i in nonfields:\n",
    "    fields.remove(i)"
   ]
  },
  {
   "cell_type": "code",
   "execution_count": 5,
   "metadata": {},
   "outputs": [
    {
     "name": "stderr",
     "output_type": "stream",
     "text": [
      "c:\\users\\rfg\\appdata\\local\\programs\\python\\python37\\lib\\site-packages\\ipykernel_launcher.py:3: SettingWithCopyWarning: \n",
      "A value is trying to be set on a copy of a slice from a DataFrame.\n",
      "Try using .loc[row_indexer,col_indexer] = value instead\n",
      "\n",
      "See the caveats in the documentation: http://pandas.pydata.org/pandas-docs/stable/user_guide/indexing.html#returning-a-view-versus-a-copy\n",
      "  This is separate from the ipykernel package so we can avoid doing imports until\n"
     ]
    }
   ],
   "source": [
    "frames = []\n",
    "for name, frame in df.groupby('companyid'):\n",
    "    frame['r_t1'] = frame['r'].shift(-1)\n",
    "    frames.append(frame)\n",
    "\n",
    "df = pd.concat(frames, axis=0).sort_index()"
   ]
  },
  {
   "cell_type": "code",
   "execution_count": 6,
   "metadata": {},
   "outputs": [
    {
     "name": "stdout",
     "output_type": "stream",
     "text": [
      "166278\n"
     ]
    },
    {
     "name": "stderr",
     "output_type": "stream",
     "text": [
      "c:\\users\\rfg\\appdata\\local\\programs\\python\\python37\\lib\\site-packages\\ipykernel_launcher.py:9: SettingWithCopyWarning: \n",
      "A value is trying to be set on a copy of a slice from a DataFrame\n",
      "\n",
      "See the caveats in the documentation: http://pandas.pydata.org/pandas-docs/stable/user_guide/indexing.html#returning-a-view-versus-a-copy\n",
      "  if __name__ == '__main__':\n",
      "c:\\users\\rfg\\appdata\\local\\programs\\python\\python37\\lib\\site-packages\\ipykernel_launcher.py:10: SettingWithCopyWarning: \n",
      "A value is trying to be set on a copy of a slice from a DataFrame\n",
      "\n",
      "See the caveats in the documentation: http://pandas.pydata.org/pandas-docs/stable/user_guide/indexing.html#returning-a-view-versus-a-copy\n",
      "  # Remove the CWD from sys.path while we load stuff.\n"
     ]
    }
   ],
   "source": [
    "'''\n",
    "Eligible field has:\n",
    "    1 - All data available in period t\n",
    "    2 - Return available in period t+1\n",
    "'''\n",
    "# Find number of fields available\n",
    "df['eligible'] = ((1- df[fields].isna()) * 1).sum(axis=1)\n",
    "# Set eligible = 1 if all fields are available (34 fields)\n",
    "df['eligible'][df['eligible']!=len(fields)] = 0\n",
    "df['eligible'][df['eligible']==len(fields)] = 1\n",
    "\n",
    "print(df['eligible'].sum())"
   ]
  },
  {
   "cell_type": "code",
   "execution_count": 38,
   "metadata": {},
   "outputs": [],
   "source": [
    "# Save over master file with new df from above\n",
    "np.save(dataFolder+'\\master_prepared.npy', df)\n",
    "np.save(dataFolder+'\\columns_prepared.npy', list(df.columns))"
   ]
  }
 ],
 "metadata": {
  "kernelspec": {
   "display_name": "Python 3",
   "language": "python",
   "name": "python3"
  },
  "language_info": {
   "codemirror_mode": {
    "name": "ipython",
    "version": 3
   },
   "file_extension": ".py",
   "mimetype": "text/x-python",
   "name": "python",
   "nbconvert_exporter": "python",
   "pygments_lexer": "ipython3",
   "version": "3.7.5"
  }
 },
 "nbformat": 4,
 "nbformat_minor": 2
}
