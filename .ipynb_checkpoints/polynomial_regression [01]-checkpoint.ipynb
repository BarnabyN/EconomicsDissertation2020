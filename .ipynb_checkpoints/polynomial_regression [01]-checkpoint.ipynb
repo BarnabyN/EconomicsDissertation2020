{
 "cells": [
  {
   "cell_type": "markdown",
   "metadata": {},
   "source": [
    "# Imports"
   ]
  },
  {
   "cell_type": "code",
   "execution_count": 2,
   "metadata": {},
   "outputs": [],
   "source": [
    "import pandas as pd\n",
    "import numpy as np\n",
    "import statsmodels.api as sm\n",
    "import matplotlib.pyplot as plt\n",
    "%matplotlib inline\n",
    "from statsmodels.sandbox.regression.predstd import wls_prediction_std\n",
    "import seaborn as sns\n",
    "from sklearn import svm, preprocessing\n",
    "from sklearn.linear_model import LinearRegression\n",
    "from sklearn.model_selection import KFold, cross_val_score\n",
    "from sklearn.metrics import mean_squared_error, r2_score"
   ]
  },
  {
   "cell_type": "markdown",
   "metadata": {},
   "source": [
    "# Read Data"
   ]
  },
  {
   "cell_type": "code",
   "execution_count": 3,
   "metadata": {},
   "outputs": [],
   "source": [
    "df = pd.DataFrame(np.load(r'../data/master_prepared.npy', allow_pickle=True))\n",
    "cols = np.load(r'../data/columns_prepared.npy', allow_pickle=True)\n",
    "df.columns = cols"
   ]
  },
  {
   "cell_type": "code",
   "execution_count": 17,
   "metadata": {},
   "outputs": [],
   "source": [
    "# Create polynomials\n",
    "df['mv_sqrt'] = df['mv'] ** 0.5\n",
    "df['bvtmv_sq'] = df['bvtmv'] ** 2"
   ]
  },
  {
   "cell_type": "code",
   "execution_count": 51,
   "metadata": {},
   "outputs": [
    {
     "data": {
      "text/plain": [
       "0               NaN\n",
       "1               NaN\n",
       "2               NaN\n",
       "3               NaN\n",
       "4               NaN\n",
       "            ...    \n",
       "444558      0.16915\n",
       "444559     0.332366\n",
       "444560    0.0147474\n",
       "444561    -0.199849\n",
       "444562    0.0369658\n",
       "Name: ret_3m, Length: 444563, dtype: object"
      ]
     },
     "execution_count": 51,
     "metadata": {},
     "output_type": "execute_result"
    }
   ],
   "source": [
    "df['ret_3m']"
   ]
  },
  {
   "cell_type": "code",
   "execution_count": 24,
   "metadata": {
    "scrolled": false
   },
   "outputs": [],
   "source": [
    "drop_cols = [\n",
    "    'date',\n",
    "    'eligible',\n",
    "    'companyid', \n",
    "    'ret_3m', \n",
    "    'ret_6m', \n",
    "    'std_3m', \n",
    "    'std_6m', \n",
    "    'map_6m'\n",
    "]\n",
    "dates = df['date'].unique()\n",
    "\n",
    "# Regress on next periods return\n",
    "y_col = 'r_1f1'\n",
    "drop_cols.append(y_col)\n",
    "\n",
    "# Independent variables\n",
    "# x_cols = ['bvtmv', 'bvtmv_sq']\n",
    "x_cols = [i for i in list(df.columns) if i not in drop_cols]\n",
    "\n",
    "df_eligible = df[df['eligible']==1]\n",
    "X = df_eligible[x_cols].astype('float')\n",
    "y = df_eligible[y_col].astype('float')\n"
   ]
  },
  {
   "cell_type": "code",
   "execution_count": 45,
   "metadata": {},
   "outputs": [
    {
     "name": "stdout",
     "output_type": "stream",
     "text": [
      "X_train:  (8448, 35)\n",
      "y_train:  (8448,)\n",
      "X_test:   (861, 35)\n",
      "y_test:   (861,)\n"
     ]
    }
   ],
   "source": [
    "# Start index of dates, and index range to regress over\n",
    "start_index = 1\n",
    "train_range = 20\n",
    "\n",
    "train_dates = dates[start_index:start_index+train_range+1]\n",
    "test_dates = dates[start_index+train_range+1]\n",
    "\n",
    "X_train = X[df_eligible['date'].isin(train_dates)].astype('float')\n",
    "X_train = sm.add_constant(X_train)\n",
    "y_train = y[df_eligible['date'].isin(train_dates)].astype('float')\n",
    "\n",
    "X_test = X[df_eligible['date']==test_dates].astype('float')\n",
    "X_test.insert(0, 'const', 1)\n",
    "y_test = y[df_eligible['date']==test_dates].astype('float')\n",
    "\n",
    "# print('Train Range:  ', train_dates)\n",
    "# print('Test Range:  ', test_dates)\n",
    "print('X_train: ', X_train.values.shape)\n",
    "print('y_train: ', y_train.values.shape)\n",
    "print('X_test:  ', X_test.values.shape)\n",
    "print('y_test:  ', y_test.values.shape)\n",
    "\n",
    "# X_train = preprocessing.scale(X_train)\n",
    "# X_test = preprocessing.scale(X_test)"
   ]
  },
  {
   "cell_type": "markdown",
   "metadata": {},
   "source": [
    "# Model"
   ]
  },
  {
   "cell_type": "code",
   "execution_count": 46,
   "metadata": {
    "scrolled": false
   },
   "outputs": [
    {
     "name": "stdout",
     "output_type": "stream",
     "text": [
      "                            OLS Regression Results                            \n",
      "==============================================================================\n",
      "Dep. Variable:                  r_1f1   R-squared:                       0.022\n",
      "Model:                            OLS   Adj. R-squared:                  0.018\n",
      "Method:                 Least Squares   F-statistic:                     5.460\n",
      "Date:                Wed, 05 Feb 2020   Prob (F-statistic):           1.70e-22\n",
      "Time:                        10:33:18   Log-Likelihood:                 7530.3\n",
      "No. Observations:                8448   AIC:                        -1.499e+04\n",
      "Df Residuals:                    8413   BIC:                        -1.474e+04\n",
      "Df Model:                          34                                         \n",
      "Covariance Type:            nonrobust                                         \n",
      "=============================================================================================\n",
      "                                coef    std err          t      P>|t|      [0.025      0.975]\n",
      "---------------------------------------------------------------------------------------------\n",
      "const                        -0.0175      0.024     -0.731      0.465      -0.064       0.029\n",
      "p                         -5.313e-06   4.79e-06     -1.109      0.267   -1.47e-05    4.08e-06\n",
      "so                         5.805e-09   2.34e-09      2.481      0.013    1.22e-09    1.04e-08\n",
      "eps                       -1.881e-05   1.74e-05     -1.081      0.280   -5.29e-05    1.53e-05\n",
      "dy                           -0.0002      0.001     -0.380      0.704      -0.001       0.001\n",
      "mv                        -1.418e-06   9.77e-07     -1.452      0.147   -3.33e-06    4.97e-07\n",
      "fcf                           0.0013      0.001      2.076      0.038    7.29e-05       0.003\n",
      "opmarg                     2.509e-06   2.79e-06      0.898      0.369   -2.97e-06    7.99e-06\n",
      "roe                        1.894e-05   2.15e-05      0.881      0.378   -2.32e-05    6.11e-05\n",
      "roic                          0.0002   6.31e-05      3.242      0.001    8.09e-05       0.000\n",
      "debtpct                   -1.734e-05   5.33e-05     -0.325      0.745      -0.000    8.72e-05\n",
      "allshare                     -0.1583      0.043     -3.704      0.000      -0.242      -0.075\n",
      "beta                          0.0019      0.002      1.079      0.281      -0.002       0.005\n",
      "bvtmv                         0.0267      0.004      6.063      0.000       0.018       0.035\n",
      "r                             0.0174      0.011      1.524      0.128      -0.005       0.040\n",
      "ret_9m                       -0.0304      0.007     -4.214      0.000      -0.044      -0.016\n",
      "ret_12m                       0.0310      0.006      5.513      0.000       0.020       0.042\n",
      "map_3m                     8.498e-06   6.56e-06      1.296      0.195   -4.36e-06    2.14e-05\n",
      "map_9m                    -9.814e-06   1.15e-05     -0.855      0.392   -3.23e-05    1.27e-05\n",
      "map_12m                    6.396e-06   1.07e-05      0.596      0.551   -1.46e-05    2.74e-05\n",
      "std_9m                        0.0206      0.018      1.146      0.252      -0.015       0.056\n",
      "std_12m                      -0.0111      0.020     -0.562      0.574      -0.050       0.028\n",
      "ind_technology                0.0075      0.024      0.312      0.755      -0.040       0.054\n",
      "ind_financials                0.0107      0.024      0.448      0.654      -0.036       0.057\n",
      "ind_energy                    0.0160      0.025      0.651      0.515      -0.032       0.064\n",
      "ind_consumerdiscretionary    -0.0041      0.024     -0.176      0.861      -0.050       0.042\n",
      "ind_consumerstaples           0.0051      0.024      0.213      0.832      -0.042       0.052\n",
      "ind_basicmaterials           -0.0057      0.024     -0.238      0.812      -0.053       0.041\n",
      "ind_industrials               0.0004      0.024      0.018      0.986      -0.046       0.047\n",
      "ind_healthcare                0.0176      0.024      0.723      0.470      -0.030       0.065\n",
      "ind_utilities                 0.0201      0.025      0.822      0.411      -0.028       0.068\n",
      "ind_realestate                0.0004      0.024      0.016      0.987      -0.047       0.047\n",
      "ind_telecommunications        0.0098      0.026      0.380      0.704      -0.041       0.060\n",
      "mv_sqrt                    5.154e-05      0.000      0.442      0.658      -0.000       0.000\n",
      "bvtmv_sq                     -0.0033      0.001     -3.909      0.000      -0.005      -0.002\n",
      "==============================================================================\n",
      "Omnibus:                     5618.313   Durbin-Watson:                   1.866\n",
      "Prob(Omnibus):                  0.000   Jarque-Bera (JB):           571718.432\n",
      "Skew:                           2.348   Prob(JB):                         0.00\n",
      "Kurtosis:                      43.027   Cond. No.                     7.90e+07\n",
      "==============================================================================\n",
      "\n",
      "Warnings:\n",
      "[1] Standard Errors assume that the covariance matrix of the errors is correctly specified.\n",
      "[2] The condition number is large, 7.9e+07. This might indicate that there are\n",
      "strong multicollinearity or other numerical problems.\n",
      "R2_oos:        -0.13633410924195988\n",
      "R2_is:         0.021591196957669978\n"
     ]
    }
   ],
   "source": [
    "model = sm.OLS(y_train, X_train).fit()\n",
    "pred = model.predict(X_test)\n",
    "\n",
    "# pred.plot()\n",
    "# plt.show()\n",
    "print(model.summary())\n",
    "# print(model.params)\n",
    "print('R2_oos:       ', r2_score(y_test, pred))\n",
    "print('R2_is:        ', model.rsquared)"
   ]
  }
 ],
 "metadata": {
  "kernelspec": {
   "display_name": "Python 3",
   "language": "python",
   "name": "python3"
  },
  "language_info": {
   "codemirror_mode": {
    "name": "ipython",
    "version": 3
   },
   "file_extension": ".py",
   "mimetype": "text/x-python",
   "name": "python",
   "nbconvert_exporter": "python",
   "pygments_lexer": "ipython3",
   "version": "3.7.6"
  }
 },
 "nbformat": 4,
 "nbformat_minor": 2
}
