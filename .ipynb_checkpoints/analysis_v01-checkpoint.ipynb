{
 "cells": [
  {
   "cell_type": "markdown",
   "metadata": {},
   "source": [
    "### Import libraries"
   ]
  },
  {
   "cell_type": "code",
   "execution_count": 21,
   "metadata": {},
   "outputs": [],
   "source": [
    "import pandas as pd\n",
    "import numpy as np\n",
    "import xlwings as xw"
   ]
  },
  {
   "cell_type": "markdown",
   "metadata": {},
   "source": [
    "### Define global variables"
   ]
  },
  {
   "cell_type": "code",
   "execution_count": 22,
   "metadata": {},
   "outputs": [],
   "source": [
    "sheetNames = ['p', 'ey', 'fcfy', 'eps', 'ptbv', 'dy', 'mv']\n",
    "fileName = \"Pull 1.xlsx\""
   ]
  },
  {
   "cell_type": "markdown",
   "metadata": {},
   "source": [
    "### Read data from Excel"
   ]
  },
  {
   "cell_type": "code",
   "execution_count": 26,
   "metadata": {},
   "outputs": [],
   "source": [
    "# Requires file to be open\n",
    "p = pd.DataFrame(xw.books(fileName).sheets(\"p\").range(\"A1:BVI287\").value)\n",
    "ey = pd.DataFrame(xw.books(fileName).sheets(\"ey\").range(\"A1:BVI287\").value)\n",
    "fcfy = pd.DataFrame(xw.books(fileName).sheets(\"fcfy\").range(\"A1:BVI287\").value)\n",
    "eps = pd.DataFrame(xw.books(fileName).sheets(\"eps\").range(\"A1:BVI287\").value)\n",
    "ptbv = pd.DataFrame(xw.books(fileName).sheets(\"ptbv\").range(\"A1:BVI287\").value)\n",
    "dy = pd.DataFrame(xw.books(fileName).sheets(\"dy\").range(\"A1:BVI287\").value)\n",
    "mv = pd.DataFrame(xw.books(fileName).sheets(\"mv\").range(\"A1:BVI287\").value)\n",
    "\n",
    "fieldList = [p, ey, fcfy, eps, ptbv, dy, mv]"
   ]
  },
  {
   "cell_type": "markdown",
   "metadata": {},
   "source": [
    "### Data exploration"
   ]
  },
  {
   "cell_type": "code",
   "execution_count": null,
   "metadata": {},
   "outputs": [],
   "source": [
    "for field in fieldList:\n",
    "    field.columns = field.iloc[0]\n",
    "    field = field[1:]\n",
    "    field.index = field[field.columns[0]]\n",
    "    field.drop([field.columns[0]])"
   ]
  }
 ],
 "metadata": {
  "kernelspec": {
   "display_name": "Python 3",
   "language": "python",
   "name": "python3"
  },
  "language_info": {
   "codemirror_mode": {
    "name": "ipython",
    "version": 3
   },
   "file_extension": ".py",
   "mimetype": "text/x-python",
   "name": "python",
   "nbconvert_exporter": "python",
   "pygments_lexer": "ipython3",
   "version": "3.7.4"
  }
 },
 "nbformat": 4,
 "nbformat_minor": 2
}
