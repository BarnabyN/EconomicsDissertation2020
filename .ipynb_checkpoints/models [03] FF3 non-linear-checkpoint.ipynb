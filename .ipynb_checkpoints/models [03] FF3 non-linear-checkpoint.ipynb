{
 "cells": [
  {
   "cell_type": "markdown",
   "metadata": {},
   "source": [
    "# Imports"
   ]
  },
  {
   "cell_type": "code",
   "execution_count": 100,
   "metadata": {},
   "outputs": [],
   "source": [
    "import pandas as pd\n",
    "import numpy as np\n",
    "import statsmodels.api as sm\n",
    "import matplotlib.pyplot as plt\n",
    "%matplotlib inline\n",
    "import seaborn as sns\n",
    "from sklearn import svm, preprocessing\n",
    "from sklearn.linear_model import LinearRegression\n",
    "from sklearn.model_selection import KFold, cross_val_score, train_test_split\n",
    "from sklearn.metrics import r2_score\n",
    "from sklearn.tree import DecisionTreeRegressor\n",
    "import warnings\n",
    "warnings.filterwarnings(\"ignore\")\n",
    "from sklearn.svm import SVR\n",
    "from sklearn.linear_model import Lasso, Ridge\n",
    "import tensorflow as tf\n",
    "from tensorflow import keras\n",
    "from tensorflow.keras import layers\n",
    "from tensorflow.keras.wrappers.scikit_learn import KerasRegressor\n",
    "from tensorflow.keras.layers import Dense, Activation\n",
    "from tensorflow.keras.models import Sequential"
   ]
  },
  {
   "cell_type": "markdown",
   "metadata": {},
   "source": [
    "# Class Setup"
   ]
  },
  {
   "cell_type": "code",
   "execution_count": 101,
   "metadata": {},
   "outputs": [],
   "source": [
    "class model():\n",
    "\n",
    "    def __init__(self):\n",
    "        self.r2_oos     = object()\n",
    "        self.r2_is      = object()\n",
    "        self.predictors = object()\n",
    "        self.summary    = object()\n",
    "        self.model      = object()\n",
    "        self.fitted_model = object()\n",
    "        self.X_train    = object()\n",
    "        self.y_train    = object()\n",
    "        self.X_test     = object()\n",
    "        self.y_test     = object()\n",
    "        self.pred       = object()"
   ]
  },
  {
   "cell_type": "markdown",
   "metadata": {},
   "source": [
    "# Data"
   ]
  },
  {
   "cell_type": "code",
   "execution_count": 102,
   "metadata": {},
   "outputs": [],
   "source": [
    "df = pd.DataFrame(np.load(r'../data/master_prepared.npy', allow_pickle=True))\n",
    "cols = np.load(r'../data/columns_prepared.npy', allow_pickle=True)\n",
    "df.columns = cols"
   ]
  },
  {
   "cell_type": "code",
   "execution_count": 103,
   "metadata": {
    "scrolled": false
   },
   "outputs": [],
   "source": [
    "\n",
    "drop_cols = [\n",
    "    'date',\n",
    "    'eligible',\n",
    "    'companyid', \n",
    "    'ret_1f1',\n",
    "    'ret_1f3',\n",
    "    'ret_1f6',\n",
    "    'ret_1f12',\n",
    "    'retxs_1f1',\n",
    "    'retxs_1f3',\n",
    "    'retxs_1f6',\n",
    "    'retxs_1f12'\n",
    "]\n",
    "\n",
    "y_col = 'retxs_1f1'\n",
    "\n",
    "# X cols are the independent variables\n",
    "x_cols = [i for i in list(df.columns) if i not in drop_cols]\n",
    "\n",
    "# Only use eligible data\n",
    "df_eligible = df[df['eligible']==1]\n",
    "X = df_eligible[x_cols].astype('float64')\n",
    "y = df_eligible[y_col].astype('float64')"
   ]
  },
  {
   "cell_type": "code",
   "execution_count": 104,
   "metadata": {},
   "outputs": [],
   "source": [
    "def prepare_data(start_index, train_range):\n",
    "\n",
    "    # Dates\n",
    "    global dates\n",
    "    dates = df['date'].unique()\n",
    "    train_dates = dates[start_index:start_index+train_range+1]\n",
    "    test_dates = dates[start_index+train_range+1]\n",
    "\n",
    "    # Training Data\n",
    "    X_train = X[df_eligible['date'].isin(train_dates)].astype('float64')\n",
    "    X_train = sm.add_constant(X_train)\n",
    "    y_train = y[df_eligible['date'].isin(train_dates)].astype('float64')\n",
    "\n",
    "    # Test Data\n",
    "    X_test = X[df_eligible['date']==test_dates].astype('float64')\n",
    "    X_test.insert(0, 'const', 1)\n",
    "    y_test = y[df_eligible['date']==test_dates].astype('float64')\n",
    "        \n",
    "    return X_train, y_train, X_test, y_test\n",
    "\n",
    "#X_train, y_train, X_test, y_test = prepare_data(60, 36)"
   ]
  },
  {
   "cell_type": "markdown",
   "metadata": {},
   "source": [
    "# Models"
   ]
  },
  {
   "cell_type": "code",
   "execution_count": 114,
   "metadata": {},
   "outputs": [],
   "source": [
    "\n",
    "linear_predictors = [\n",
    "    'mv',\n",
    "    'bvtmv',\n",
    "    'retxs_24m',\n",
    "    'retxs_12m',\n",
    "    'retxs_6m',\n",
    "    'std_12m',\n",
    "    'fcf',\n",
    "    'roic',\n",
    "    'dy',\n",
    "    'beta'\n",
    "]\n",
    "\n",
    "nonlinear_predictors = [\n",
    "    'mv',\n",
    "    'mv_^0.5',\n",
    "    'bvtmv',\n",
    "    'bvtmv_^2',\n",
    "    'bvtmv_^3',\n",
    "    'retxs_3m',\n",
    "    'retxs_3m_^2',\n",
    "    'retxs_6m',\n",
    "    'retxs_12m',\n",
    "    'retxs_12m_^2',\n",
    "    'std_6m',\n",
    "    'std_12m',\n",
    "    'std_12m_^2',\n",
    "    'std_24m',\n",
    "    'fcf',\n",
    "    'roic',\n",
    "    'roic_^2',\n",
    "#     'dy',\n",
    "#     'dy_^2',\n",
    "    'beta',\n",
    "    'beta_^2',\n",
    "    'mv_bvtmv',\n",
    "    'retxs12m_bvtmv'\n",
    "]\n"
   ]
  },
  {
   "cell_type": "code",
   "execution_count": 107,
   "metadata": {},
   "outputs": [
    {
     "name": "stdout",
     "output_type": "stream",
     "text": [
      "-1.4889291947562158\n",
      "                            OLS Regression Results                            \n",
      "==============================================================================\n",
      "Dep. Variable:              retxs_1f1   R-squared:                       0.060\n",
      "Model:                            OLS   Adj. R-squared:                  0.060\n",
      "Method:                 Least Squares   F-statistic:                     339.2\n",
      "Date:                Thu, 13 Feb 2020   Prob (F-statistic):               0.00\n",
      "Time:                        12:43:17   Log-Likelihood:                 57570.\n",
      "No. Observations:               95615   AIC:                        -1.151e+05\n",
      "Df Residuals:                   95596   BIC:                        -1.149e+05\n",
      "Df Model:                          18                                         \n",
      "Covariance Type:            nonrobust                                         \n",
      "==================================================================================\n",
      "                     coef    std err          t      P>|t|      [0.025      0.975]\n",
      "----------------------------------------------------------------------------------\n",
      "mv              5.569e-07    1.2e-07      4.652      0.000    3.22e-07    7.92e-07\n",
      "mv_^0.5           -0.0002   2.59e-05     -9.002      0.000      -0.000      -0.000\n",
      "bvtmv              0.0151      0.001     22.125      0.000       0.014       0.016\n",
      "bvtmv_^2          -0.0004   3.21e-05    -11.266      0.000      -0.000      -0.000\n",
      "bvtmv_^3        2.525e-06   3.16e-07      7.988      0.000    1.91e-06    3.14e-06\n",
      "retxs_3m           0.0115      0.002      4.715      0.000       0.007       0.016\n",
      "retxs_3m_^2        0.0032      0.001      5.684      0.000       0.002       0.004\n",
      "retxs_6m          -0.0049      0.002     -3.188      0.001      -0.008      -0.002\n",
      "retxs_12m          0.0070      0.001      7.354      0.000       0.005       0.009\n",
      "retxs_12m_^2      -0.0001   2.62e-05     -5.139      0.000      -0.000   -8.31e-05\n",
      "std_6m             0.0135      0.002      6.164      0.000       0.009       0.018\n",
      "std_12m            0.0014      0.001      1.980      0.048    1.42e-05       0.003\n",
      "std_12m_^2        -0.0025      0.001     -3.675      0.000      -0.004      -0.001\n",
      "std_24m           -0.0073      0.002     -3.563      0.000      -0.011      -0.003\n",
      "fcf             6.447e-05   4.69e-05      1.375      0.169   -2.74e-05       0.000\n",
      "roic               0.0004   2.01e-05     20.051      0.000       0.000       0.000\n",
      "roic_^2         1.603e-07   1.05e-08     15.330      0.000     1.4e-07    1.81e-07\n",
      "dy                -0.0005      0.000     -3.896      0.000      -0.001      -0.000\n",
      "dy_^2           2.365e-05   4.15e-07     56.961      0.000    2.28e-05    2.45e-05\n",
      "beta              -0.0074      0.001     -5.450      0.000      -0.010      -0.005\n",
      "beta_^2            0.0016      0.000      3.805      0.000       0.001       0.002\n",
      "so              1.689e-09   6.32e-10      2.673      0.008     4.5e-10    2.93e-09\n",
      "so_^2          -3.337e-17    1.1e-17     -3.021      0.003    -5.5e-17   -1.17e-17\n",
      "mv_bvtmv          -0.0005      0.000     -2.566      0.010      -0.001      -0.000\n",
      "retxs12m_bvtmv -4.807e-07   2.18e-07     -2.203      0.028   -9.08e-07    -5.3e-08\n",
      "==============================================================================\n",
      "Omnibus:                    81711.676   Durbin-Watson:                   1.861\n",
      "Prob(Omnibus):                  0.000   Jarque-Bera (JB):         19152700.599\n",
      "Skew:                           3.325   Prob(JB):                         0.00\n",
      "Kurtosis:                      72.016   Cond. No.                     1.06e+15\n",
      "==============================================================================\n",
      "\n",
      "Warnings:\n",
      "[1] Standard Errors assume that the covariance matrix of the errors is correctly specified.\n",
      "[2] The condition number is large, 1.06e+15. This might indicate that there are\n",
      "strong multicollinearity or other numerical problems.\n"
     ]
    }
   ],
   "source": [
    "X_train = X.iloc[:int(0.7 * len(X.index))]\n",
    "y_train = y.iloc[:int(0.7 * len(y.index))]\n",
    "X_test = X.iloc[int(0.7 * len(X.index)):]\n",
    "y_test = y.iloc[int(0.7 * len(y.index)):]\n",
    "\n",
    "\n",
    "PR = sm.OLS(y_train, X_train[nonlinear_predictors]).fit()\n",
    "\n",
    "print(r2_score(y_test, PR.predict(X_test[nonlinear_predictors])))\n",
    "print(PR.summary())"
   ]
  },
  {
   "cell_type": "code",
   "execution_count": 115,
   "metadata": {
    "scrolled": true
   },
   "outputs": [
    {
     "name": "stdout",
     "output_type": "stream",
     "text": [
      "Mean:   model_R2   -0.066137\n",
      "dtype: float64\n"
     ]
    },
    {
     "data": {
      "image/png": "[encoded data removed]",
      "text/plain": [
       "<Figure size 432x288 with 1 Axes>"
      ]
     },
     "metadata": {
      "needs_background": "light"
     },
     "output_type": "display_data"
    }
   ],
   "source": [
    "def describe_r2(model, predictors):\n",
    "    r2_ts = pd.DataFrame(columns=['model_R2'], index=dates)\n",
    "\n",
    "    for i in range(1,len(dates)-37):\n",
    "        X_train, y_train, X_test, y_test = prepare_data(i, 36)\n",
    "        X_train, X_test = X_train[predictors], X_test[predictors]\n",
    "\n",
    "        try:\n",
    "            model.fit(X_train, y_train)\n",
    "            pred = model.predict(X_test)\n",
    "            r2_ts['model_R2'].iloc[i] = r2_score(y_test, pred)\n",
    "\n",
    "        except ValueError as err:\n",
    "            print(err)\n",
    "\n",
    "    fig, ax = plt.subplots()\n",
    "    ax.plot(r2_ts)\n",
    "    plt.legend(r2_ts.columns)\n",
    "    print(\"Mean:  \", r2_ts.mean())\n",
    "\n",
    "describe_r2(model=DecisionTreeRegressor(max_depth=2), predictors=nonlinear_predictors)\n"
   ]
  },
  {
   "cell_type": "markdown",
   "metadata": {},
   "source": [
    "# Model Comparison"
   ]
  },
  {
   "cell_type": "code",
   "execution_count": 87,
   "metadata": {},
   "outputs": [
    {
     "name": "stdout",
     "output_type": "stream",
     "text": [
      "Linear        -0.014725494841064113\n",
      "Tree          0.0015533285160000744\n",
      "Polynomial    -0.050630238993392675\n",
      "Lasso         -0.0327697151934059\n",
      "Ridge         -0.050628055212338686\n"
     ]
    }
   ],
   "source": [
    "cv = 10\n",
    "\n",
    "print(\"Linear       \", np.mean(cross_val_score(estimator=LinearRegression(), X=X[linear_predictors], y=y, scoring='r2', cv=cv)))\n",
    "print(\"Tree         \", np.mean(cross_val_score(estimator=DecisionTreeRegressor(max_depth=2), X=X[nonlinear_predictors], y=y, scoring='r2', cv=cv)))\n",
    "print(\"Polynomial   \", np.mean(cross_val_score(estimator=LinearRegression(), X=X[nonlinear_predictors], y=y, scoring='r2', cv=cv)))\n",
    "print(\"Lasso        \", np.mean(cross_val_score(estimator=Lasso(alpha=1.5), X=X[nonlinear_predictors], y=y, scoring='r2', cv=cv)))\n",
    "print(\"Ridge        \", np.mean(cross_val_score(estimator=Ridge(alpha=1.5), X=X[nonlinear_predictors], y=y, scoring='r2', cv=cv)))\n"
   ]
  },
  {
   "cell_type": "markdown",
   "metadata": {},
   "source": [
    "## *Neural Networks*"
   ]
  },
  {
   "cell_type": "code",
   "execution_count": 30,
   "metadata": {},
   "outputs": [],
   "source": [
    "\n",
    "\n",
    "# def norm(x):\n",
    "#     return (x-x.describe().transpose()['mean'])/x.describe().transpose()['std']\n",
    "\n",
    "# normXtrain = norm(X_train.drop('const', axis=1))\n",
    "# normXtest = norm(X_test.drop('const', axis=1))\n",
    "\n",
    "# model = Sequential()\n",
    "\n",
    "# model.add(Dense(8, input_dim=len(normXtrain.columns), activation='relu'))\n",
    "# model.add(Dense(1, activation='softmax'))\n",
    "# model.compile(loss='mean_squared_error', optimizer='adam')\n",
    "# model.fit(normXtrain, y_train, epochs=5, batch_size=2, verbose=2)\n",
    "\n",
    "# model.predict(normXtest)"
   ]
  }
 ],
 "metadata": {
  "kernelspec": {
   "display_name": "Python 3",
   "language": "python",
   "name": "python3"
  },
  "language_info": {
   "codemirror_mode": {
    "name": "ipython",
    "version": 3
   },
   "file_extension": ".py",
   "mimetype": "text/x-python",
   "name": "python",
   "nbconvert_exporter": "python",
   "pygments_lexer": "ipython3",
   "version": "3.7.6"
  }
 },
 "nbformat": 4,
 "nbformat_minor": 2
}
