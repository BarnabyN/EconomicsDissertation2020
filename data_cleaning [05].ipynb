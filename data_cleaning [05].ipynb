{
 "cells": [
  {
   "cell_type": "markdown",
   "metadata": {},
   "source": [
    "# Import libraries"
   ]
  },
  {
   "cell_type": "code",
   "execution_count": 1,
   "metadata": {},
   "outputs": [],
   "source": [
    "import pandas as pd\n",
    "import numpy as np\n",
    "import xlwings as xw\n",
    "import matplotlib.pyplot as plt\n",
    "import os\n",
    "import datetime as dt"
   ]
  },
  {
   "cell_type": "markdown",
   "metadata": {},
   "source": [
    "# Define Globals"
   ]
  },
  {
   "cell_type": "code",
   "execution_count": 2,
   "metadata": {},
   "outputs": [],
   "source": [
    "if os.environ[\"COMPUTERNAME\"] == \"SURFACEBOOK\":\n",
    "    laptop = True\n",
    "else:\n",
    "    laptop = False   \n",
    "\n",
    "if not laptop:\n",
    "    xlDataName = '\\DissData [03].xlsx'\n",
    "\n",
    "else:\n",
    "    xlDataName = '\\DissData [03]'\n",
    "\n",
    "dataFolder = r\"C:\\Users\\rfg\\OneDrive\\Desktop\\Dissertation ES30029\\data\"\n",
    "companyNamesRange = \"A1:A2009\"\n",
    "cellRng = \"A1:BYH288\"\n",
    "xlBook = xw.books(xlDataName[1:])\n",
    "sheetWhitelist = ['all_companies']\n",
    "sectors = ['dsindustry6', 'icbindustry2']\n",
    "fields = []"
   ]
  },
  {
   "cell_type": "markdown",
   "metadata": {},
   "source": [
    "# Read data from Excel"
   ]
  },
  {
   "cell_type": "code",
   "execution_count": 3,
   "metadata": {
    "scrolled": false
   },
   "outputs": [
    {
     "name": "stdout",
     "output_type": "stream",
     "text": [
      "p\n",
      "so\n",
      "eps\n",
      "mvtbv\n",
      "dy\n",
      "mv\n",
      "dsindustry6\n",
      "icbindustry2\n",
      "fcf\n",
      "opmarg\n",
      "roe\n",
      "roic\n",
      "debtpct\n"
     ]
    }
   ],
   "source": [
    "fields = []\n",
    "for sheet in xlBook.sheets:\n",
    "    if sheet.name not in sheetWhitelist:\n",
    "        exec('{} = pd.DataFrame(xw.books(xlDataName[1:]).sheets(\"{}\").range(cellRng).value)'.format(sheet.name, sheet.name))\n",
    "        exec('fields.append({})'.format(sheet.name))\n",
    "        exec('{}.name = \"{}\"'.format(sheet.name, sheet.name))\n",
    "        exec('{}.iloc[0][0] = \"{}\"'.format(sheet.name, sheet.name))\n",
    "\n",
    "\n",
    "\n",
    "# Clean up the dataframes to have correct cols and rows\n",
    "\n",
    "for field in fields:\n",
    "    print(field.name)\n",
    "    companyNames = [str(i) for i in xlBook.sheets(\"all_companies\").range(companyNamesRange).value]\n",
    "    companyNames.insert(0, field.iloc[0][0])\n",
    "    field.columns = companyNames\n",
    "    field.index = field[field.columns[0]]\n",
    "    del field[field.columns[0]]\n",
    "    field.drop(field.index[0], inplace=True)\n",
    "    field.replace(\"NA\", np.nan, inplace=True)\n",
    "    field = field.apply(pd.to_numeric,errors='coerce')\n"
   ]
  },
  {
   "cell_type": "markdown",
   "metadata": {},
   "source": [
    "# Useful Functions"
   ]
  },
  {
   "cell_type": "code",
   "execution_count": 4,
   "metadata": {},
   "outputs": [],
   "source": [
    "def drop_from_fields(fieldName):\n",
    "    global fields\n",
    "    fields = [field for field in fields if field.name != fieldName]"
   ]
  },
  {
   "cell_type": "markdown",
   "metadata": {},
   "source": [
    "\n",
    "# Data Cleaning"
   ]
  },
  {
   "cell_type": "markdown",
   "metadata": {},
   "source": [
    "### Reshape Sectors"
   ]
  },
  {
   "cell_type": "code",
   "execution_count": 5,
   "metadata": {
    "scrolled": false
   },
   "outputs": [
    {
     "name": "stdout",
     "output_type": "stream",
     "text": [
      "dsindustry6 complete\n",
      "indgroup complete\n"
     ]
    }
   ],
   "source": [
    "sectorFields = [dsindustry6, icbindustry2]\n",
    "\n",
    "dsindustry6.index = p.index\n",
    "dsindustry6[1:] = dsindustry6.iloc[0].values\n",
    "print('dsindustry6 complete')\n",
    "\n",
    "icbindustry2.index = p.index\n",
    "try:\n",
    "    icbindustry2[1:] = icbindustry2.iloc[0].values\n",
    "except:\n",
    "    print('Running slow method for indgroup')\n",
    "    for row in icbindustry2.index:\n",
    "        icbindustry2.loc[row] = icbindustry2.iloc[0].values\n",
    "print('icbindustry2 complete')"
   ]
  },
  {
   "cell_type": "code",
   "execution_count": null,
   "metadata": {},
   "outputs": [],
   "source": []
  },
  {
   "cell_type": "markdown",
   "metadata": {},
   "source": [
    "### Drop Last 10 Months (not much data)"
   ]
  },
  {
   "cell_type": "code",
   "execution_count": 6,
   "metadata": {
    "scrolled": false
   },
   "outputs": [],
   "source": [
    "for field in fields:\n",
    "    field.drop(list(field.loc[pd.datetime(2018, 12, 31):].index), axis=0, inplace=True)"
   ]
  },
  {
   "cell_type": "markdown",
   "metadata": {},
   "source": [
    "### Get Rid of Investment Trusts"
   ]
  },
  {
   "cell_type": "code",
   "execution_count": 8,
   "metadata": {},
   "outputs": [
    {
     "name": "stdout",
     "output_type": "stream",
     "text": [
      "There were 341 investment trusts in this dataset\n"
     ]
    }
   ],
   "source": [
    "trusts = [stock for stock in dsindustry6.columns if dsindustry6.iloc[0][stock] == \"Investment Trusts\"]\n",
    "print('There were {} investment trusts in this dataset'.format(int(len(trusts))))\n",
    "\n",
    "# Drop trusts from the dataset as they are not what we are looking for\n",
    "for field in fields:\n",
    "    field.drop(trusts, axis=1, inplace=True)"
   ]
  },
  {
   "cell_type": "markdown",
   "metadata": {},
   "source": [
    "### Remove series which don't have data for a field"
   ]
  },
  {
   "cell_type": "code",
   "execution_count": 9,
   "metadata": {},
   "outputs": [
    {
     "name": "stdout",
     "output_type": "stream",
     "text": [
      "(276, 1549, 13)\n"
     ]
    }
   ],
   "source": [
    "errorCols = []\n",
    "for field in fields:\n",
    "    for col in field:\n",
    "        try:\n",
    "            if field[col].iloc[0][:4] == '$$ER': \n",
    "                errorCols.append(col)\n",
    "        except:\n",
    "            pass\n",
    "\n",
    "errorCols = list(dict.fromkeys(errorCols))\n",
    "\n",
    "for field in fields:\n",
    "    for col in errorCols:\n",
    "        del field[col]\n",
    "\n",
    "print(np.stack(fields, axis=-1).shape)"
   ]
  },
  {
   "cell_type": "markdown",
   "metadata": {},
   "source": [
    "### Manipulating Fields"
   ]
  },
  {
   "cell_type": "code",
   "execution_count": 10,
   "metadata": {},
   "outputs": [],
   "source": [
    "# Perform manipulations on some of the fields\n",
    "bvtmv = 1 / mvtbv\n",
    "drop_from_fields('mvtbv')"
   ]
  },
  {
   "cell_type": "markdown",
   "metadata": {},
   "source": [
    "# Data Calculation"
   ]
  },
  {
   "cell_type": "markdown",
   "metadata": {},
   "source": [
    "### Returns"
   ]
  },
  {
   "cell_type": "code",
   "execution_count": 11,
   "metadata": {},
   "outputs": [],
   "source": [
    "r = pd.DataFrame()\n",
    "\n",
    "r = p/p.shift(1)-1\n",
    "\n",
    "r.name = 'r'"
   ]
  },
  {
   "cell_type": "code",
   "execution_count": 12,
   "metadata": {},
   "outputs": [
    {
     "name": "stdout",
     "output_type": "stream",
     "text": [
      "(276, 1549)\n",
      "(276, 1549)\n",
      "(276, 1549)\n",
      "(276, 1549)\n",
      "(276, 1549)\n",
      "(276, 1549)\n",
      "(276, 1549)\n"
     ]
    }
   ],
   "source": [
    "ret_3m = pd.DataFrame()\n",
    "ret_6m = pd.DataFrame()\n",
    "ret_9m = pd.DataFrame()\n",
    "ret_12m = pd.DataFrame()\n",
    "ret_18m = pd.DataFrame()\n",
    "ret_24m = pd.DataFrame()\n",
    "ret_36m = pd.DataFrame()\n",
    "\n",
    "ret_3m = (1+r).rolling(window=3).apply(np.prod, raw=True)-1\n",
    "ret_6m = (1+r).rolling(window=6).apply(np.prod, raw=True)-1\n",
    "ret_9m = (1+r).rolling(window=9).apply(np.prod, raw=True)-1\n",
    "ret_12m = (1+r).rolling(window=12).apply(np.prod, raw=True)-1\n",
    "ret_18m = (1+r).rolling(window=18).apply(np.prod, raw=True)-1\n",
    "ret_24m = (1+r).rolling(window=24).apply(np.prod, raw=True)-1\n",
    "ret_36m = (1+r).rolling(window=36).apply(np.prod, raw=True)-1\n",
    "\n",
    "ret_3m.name = 'ret_3m'\n",
    "ret_6m.name = 'ret_6m'\n",
    "ret_9m.name = 'ret_9m'\n",
    "ret_12m.name = 'ret_12m'\n",
    "ret_18m.name = 'ret_18m'\n",
    "ret_24m.name = 'ret_24m'\n",
    "ret_36m.name = 'ret_36m'\n",
    "\n",
    "rollingReturns = [ret_3m, ret_6m, ret_9m, ret_12m, ret_18m, ret_24m, ret_36m]\n",
    "for i in rollingReturns:\n",
    "    print(i.values.shape)\n",
    "\n",
    "for i in rollingReturns:\n",
    "    fields.append(i)"
   ]
  },
  {
   "cell_type": "markdown",
   "metadata": {},
   "source": [
    "### Moving averages"
   ]
  },
  {
   "cell_type": "code",
   "execution_count": 13,
   "metadata": {
    "scrolled": true
   },
   "outputs": [
    {
     "name": "stdout",
     "output_type": "stream",
     "text": [
      "(276, 1549)\n",
      "(276, 1549)\n",
      "(276, 1549)\n",
      "(276, 1549)\n",
      "(276, 1549)\n",
      "(276, 1549)\n",
      "(276, 1549)\n"
     ]
    }
   ],
   "source": [
    "map_3m = pd.DataFrame()\n",
    "map_6m = pd.DataFrame()\n",
    "map_9m = pd.DataFrame()\n",
    "map_12m = pd.DataFrame()\n",
    "map_18m = pd.DataFrame()\n",
    "map_24m = pd.DataFrame()\n",
    "map_36m = pd.DataFrame()\n",
    "\n",
    "# Calculate moving averages\n",
    "map_3m = p.rolling(window=3).mean()\n",
    "map_6m = p.rolling(window=6).mean()\n",
    "map_9m = p.rolling(window=9).mean()\n",
    "map_12m = p.rolling(window=12).mean()\n",
    "map_18m = p.rolling(window=18).mean()\n",
    "map_24m = p.rolling(window=24).mean()\n",
    "map_36m = p.rolling(window=36).mean()\n",
    "\n",
    "map_3m.name = 'map_3m'\n",
    "map_6m.name = 'map_6m'\n",
    "map_9m.name = 'map_9m'\n",
    "map_12m.name = 'map_12m'\n",
    "map_18m.name = 'map_18m'\n",
    "map_24m.name = 'map_24m'\n",
    "map_36m.name = 'map_36m'\n",
    "\n",
    "# Technical indicators (crosses of MAVs for example)\n",
    "\n",
    "movingAverages = [map_3m, map_6m, map_9m, map_12m, map_18m, map_24m, map_36m]\n",
    "for i in movingAverages:\n",
    "    print(i.values.shape)\n",
    "\n",
    "for i in movingAverages:\n",
    "    fields.append(i)"
   ]
  },
  {
   "cell_type": "markdown",
   "metadata": {},
   "source": [
    "### Volatilities"
   ]
  },
  {
   "cell_type": "code",
   "execution_count": 14,
   "metadata": {},
   "outputs": [
    {
     "name": "stdout",
     "output_type": "stream",
     "text": [
      "(276, 1549)\n",
      "(276, 1549)\n",
      "(276, 1549)\n",
      "(276, 1549)\n",
      "(276, 1549)\n",
      "(276, 1549)\n",
      "(276, 1549)\n"
     ]
    }
   ],
   "source": [
    "std_3m = pd.DataFrame()\n",
    "std_6m = pd.DataFrame()\n",
    "std_9m = pd.DataFrame()\n",
    "std_12m = pd.DataFrame()\n",
    "std_18m = pd.DataFrame()\n",
    "std_24m = pd.DataFrame()\n",
    "std_36m = pd.DataFrame()\n",
    "\n",
    "std_3m = r.rolling(window=3).std() * (12 ** 0.5)\n",
    "std_6m = r.rolling(window=6).std() * (12 ** 0.5)\n",
    "std_9m = r.rolling(window=9).std() * (12 ** 0.5)\n",
    "std_12m = r.rolling(window=12).std() * (12 ** 0.5)\n",
    "std_18m = r.rolling(window=18).std() * (12 ** 0.5)\n",
    "std_24m = r.rolling(window=24).std() * (12 ** 0.5)\n",
    "std_36m = r.rolling(window=36).std() * (12 ** 0.5)\n",
    "\n",
    "std_3m.name = 'std_3m'\n",
    "std_6m.name = 'std_6m'\n",
    "std_9m.name = 'std_9m'\n",
    "std_12m.name = 'std_12m'\n",
    "std_18m.name = 'std_18m'\n",
    "std_24m.name = 'std_24m'\n",
    "std_36m.name = 'std_36m'\n",
    "\n",
    "volatilities = [std_3m, std_6m, std_9m, std_12m, std_18m, std_24m, std_36m]\n",
    "for i in volatilities:\n",
    "    print(i.values.shape)\n",
    "\n",
    "for i in volatilities:\n",
    "    fields.append(i)"
   ]
  },
  {
   "cell_type": "markdown",
   "metadata": {},
   "source": [
    "### Sector Dummy Variables"
   ]
  },
  {
   "cell_type": "code",
   "execution_count": 57,
   "metadata": {},
   "outputs": [],
   "source": [
    "# Create list of sector dummies\n",
    "sectorDummies = []\n",
    "for sector in list(icbindustry2.iloc[0].drop_duplicates())[:-3]:\n",
    "    sectorname = \"ind_{}\".format(sector.lower().replace(' ', ''))\n",
    "    exec('{} = (icbindustry2 == sector) * 1'.format(sectorname))\n",
    "    exec('{}.name = \"{}\"'.format(sectorname, sectorname))\n",
    "    exec('{}.index.name = \"{}\"'.format(sectorname, sectorname))\n",
    "    exec('sectorDummies.append({})'.format(sectorname))\n",
    "\n",
    "for i in sectorDummies:\n",
    "    fields.append(i)\n"
   ]
  },
  {
   "cell_type": "code",
   "execution_count": null,
   "metadata": {},
   "outputs": [],
   "source": []
  },
  {
   "cell_type": "markdown",
   "metadata": {},
   "source": [
    "# Export Data"
   ]
  },
  {
   "cell_type": "code",
   "execution_count": 15,
   "metadata": {},
   "outputs": [],
   "source": [
    "# Save rows and columns\n",
    "def save_data():\n",
    "    np.save(file=dataFolder+r'\\index.npy', arr=p.index)\n",
    "    np.save(file=dataFolder+r'\\columns.npy', arr=p.columns)\n",
    "    np.save(file=dataFolder+r'\\fields.npy', arr=[field.name for field in fields])\n",
    "\n",
    "    for field in fields:\n",
    "        np.save(file=os.path.join(dataFolder, '{}.npy'.format(field.name)), arr=field)"
   ]
  },
  {
   "cell_type": "markdown",
   "metadata": {},
   "source": [
    "# Misc"
   ]
  },
  {
   "cell_type": "code",
   "execution_count": null,
   "metadata": {},
   "outputs": [],
   "source": [
    "'''\n",
    "TO DO\n",
    "    - Create dummy variables for each ICB industry\n",
    "    - Now you should have all you need to create your first regression model\n",
    "'''"
   ]
  }
 ],
 "metadata": {
  "kernelspec": {
   "display_name": "Python 3",
   "language": "python",
   "name": "python3"
  },
  "language_info": {
   "codemirror_mode": {
    "name": "ipython",
    "version": 3
   },
   "file_extension": ".py",
   "mimetype": "text/x-python",
   "name": "python",
   "nbconvert_exporter": "python",
   "pygments_lexer": "ipython3",
   "version": "3.7.3"
  }
 },
 "nbformat": 4,
 "nbformat_minor": 2
}
