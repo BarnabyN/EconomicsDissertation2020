{
 "cells": [
  {
   "cell_type": "markdown",
   "metadata": {},
   "source": [
    "# Imports"
   ]
  },
  {
   "cell_type": "code",
   "execution_count": 317,
   "metadata": {},
   "outputs": [],
   "source": [
    "import pandas as pd\n",
    "import numpy as np\n",
    "import statsmodels.api as sm\n",
    "import matplotlib.pyplot as plt\n",
    "%matplotlib inline\n",
    "import seaborn as sns\n",
    "from sklearn import svm, preprocessing\n",
    "from sklearn.linear_model import LinearRegression\n",
    "from sklearn.model_selection import KFold, cross_val_score, train_test_split\n",
    "from sklearn.metrics import r2_score\n",
    "from sklearn.tree import DecisionTreeRegressor\n",
    "import warnings\n",
    "warnings.filterwarnings(\"ignore\")\n",
    "from sklearn.svm import SVR\n",
    "from sklearn.linear_model import Lasso, Ridge\n",
    "import tensorflow as tf\n",
    "from tensorflow import keras\n",
    "from tensorflow.keras import layers\n",
    "from tensorflow.keras.wrappers.scikit_learn import KerasRegressor\n",
    "from tensorflow.keras.layers import Dense, Activation\n",
    "from tensorflow.keras.models import Sequential"
   ]
  },
  {
   "cell_type": "markdown",
   "metadata": {},
   "source": [
    "# Class Setup"
   ]
  },
  {
   "cell_type": "code",
   "execution_count": 307,
   "metadata": {},
   "outputs": [],
   "source": [
    "class model():\n",
    "\n",
    "    def __init__(self):\n",
    "        self.r2_oos     = object()\n",
    "        self.r2_is      = object()\n",
    "        self.predictors = object()\n",
    "        self.summary    = object()\n",
    "        self.model      = object()\n",
    "        self.fitted_model = object()\n",
    "        self.X_train    = object()\n",
    "        self.y_train    = object()\n",
    "        self.X_test     = object()\n",
    "        self.y_test     = object()\n",
    "        self.pred       = object()"
   ]
  },
  {
   "cell_type": "markdown",
   "metadata": {},
   "source": [
    "# Data"
   ]
  },
  {
   "cell_type": "code",
   "execution_count": 308,
   "metadata": {},
   "outputs": [],
   "source": [
    "df = pd.DataFrame(np.load(r'../data/master_prepared.npy', allow_pickle=True))\n",
    "cols = np.load(r'../data/columns_prepared.npy', allow_pickle=True)\n",
    "df.columns = cols"
   ]
  },
  {
   "cell_type": "code",
   "execution_count": 325,
   "metadata": {
    "scrolled": false
   },
   "outputs": [],
   "source": [
    "drop_cols = [\n",
    "    'date',\n",
    "    'eligible',\n",
    "    'companyid', \n",
    "    'ret_1f1',\n",
    "    'ret_1f3',\n",
    "    'ret_1f6',\n",
    "    'ret_1f12',\n",
    "    'retxs_1f1',\n",
    "    'retxs_1f3',\n",
    "    'retxs_1f6',\n",
    "    'retxs_1f12'\n",
    "]\n",
    "\n",
    "y_col = 'retxs_1f1'\n",
    "\n",
    "# X cols are the independent variables\n",
    "x_cols = [i for i in list(df.columns) if i not in drop_cols]\n",
    "\n",
    "# Only use eligible data\n",
    "df_eligible = df[df['eligible']==1]\n",
    "X = df_eligible[x_cols].astype('float64')\n",
    "y = df_eligible[y_col].astype('float64')"
   ]
  },
  {
   "cell_type": "code",
   "execution_count": 319,
   "metadata": {},
   "outputs": [],
   "source": [
    "def prepare_data(start_index, train_range):\n",
    "\n",
    "    # Dates\n",
    "    global dates\n",
    "    dates = df['date'].unique()\n",
    "    train_dates = dates[start_index:start_index+train_range+1]\n",
    "    test_dates = dates[start_index+train_range+1]\n",
    "\n",
    "    # Training Data\n",
    "    X_train = X[df_eligible['date'].isin(train_dates)].astype('float64')\n",
    "    X_train = sm.add_constant(X_train)\n",
    "    y_train = y[df_eligible['date'].isin(train_dates)].astype('float64')\n",
    "\n",
    "    # Test Data\n",
    "    X_test = X[df_eligible['date']==test_dates].astype('float64')\n",
    "    X_test.insert(0, 'const', 1)\n",
    "    y_test = y[df_eligible['date']==test_dates].astype('float64')\n",
    "        \n",
    "    return X_train, y_train, X_test, y_test\n",
    "\n",
    "#X_train, y_train, X_test, y_test = prepare_data(60, 36)"
   ]
  },
  {
   "cell_type": "markdown",
   "metadata": {},
   "source": [
    "# Models"
   ]
  },
  {
   "cell_type": "code",
   "execution_count": 332,
   "metadata": {},
   "outputs": [],
   "source": [
    "linear_predictors = [\n",
    "    'mv',\n",
    "    'bvtmv',\n",
    "#     'retxs_6m',\n",
    "#     'retxs_12m',\n",
    "#     'std_12m',\n",
    "#     'fcf',\n",
    "#     'roic',\n",
    "#     'dy',\n",
    "    'beta'\n",
    "]\n",
    "\n",
    "nonlinear_predictors = [\n",
    "    'mv',\n",
    "    'mv_^2',\n",
    "    'mv_^3',\n",
    "    'bvtmv',\n",
    "    'bvtmv_^2',\n",
    "    'bvtmv_^3',\n",
    "#     'retxs_3m',\n",
    "#     'retxs_3m_^2',\n",
    "#     'retxs_6m',\n",
    "#     'retxs_12m',\n",
    "#     'retxs_12m_^2',\n",
    "#     'std_6m',\n",
    "#     'std_12m',\n",
    "#     'std_12m_^2',\n",
    "#     'std_24m',\n",
    "#     'debtpct',\n",
    "#     'fcf',\n",
    "#     'roic',\n",
    "#     'roic_^2',\n",
    "#     'dy',\n",
    "#     'dy_^2',\n",
    "    'beta',\n",
    "    'beta_^2',\n",
    "    'beta_^3'\n",
    "#     'mv_bvtmv',\n",
    "#     'retxs12m_bvtmv',\n",
    "#     'ind_technology',\n",
    "#     'ind_utilities',\n",
    "#     'ind_financials',\n",
    "#     'ind_energy',\n",
    "#     'ind_realestate'\n",
    "]"
   ]
  },
  {
   "cell_type": "code",
   "execution_count": 326,
   "metadata": {},
   "outputs": [
    {
     "name": "stdout",
     "output_type": "stream",
     "text": [
      "-0.014523745496226148\n",
      "                            OLS Regression Results                            \n",
      "==============================================================================\n",
      "Dep. Variable:              retxs_1f1   R-squared:                       0.009\n",
      "Model:                            OLS   Adj. R-squared:                  0.009\n",
      "Method:                 Least Squares   F-statistic:                     112.6\n",
      "Date:                Tue, 25 Feb 2020   Prob (F-statistic):          3.04e-188\n",
      "Time:                        11:15:41   Log-Likelihood:                 55059.\n",
      "No. Observations:               95615   AIC:                        -1.101e+05\n",
      "Df Residuals:                   95606   BIC:                        -1.100e+05\n",
      "Df Model:                           8                                         \n",
      "Covariance Type:            nonrobust                                         \n",
      "==============================================================================\n",
      "                 coef    std err          t      P>|t|      [0.025      0.975]\n",
      "------------------------------------------------------------------------------\n",
      "mv         -3.083e-07   1.64e-07     -1.875      0.061   -6.31e-07     1.4e-08\n",
      "mv_^2       6.426e-12   3.76e-12      1.710      0.087   -9.41e-13    1.38e-11\n",
      "mv_^3      -3.783e-17   2.03e-17     -1.866      0.062   -7.76e-17     1.9e-18\n",
      "bvtmv          0.0168      0.001     26.986      0.000       0.016       0.018\n",
      "bvtmv_^2      -0.0004   3.06e-05    -13.755      0.000      -0.000      -0.000\n",
      "bvtmv_^3    3.088e-06   3.09e-07     10.009      0.000    2.48e-06    3.69e-06\n",
      "beta          -0.0120      0.002     -7.807      0.000      -0.015      -0.009\n",
      "beta_^2        0.0051      0.001      4.204      0.000       0.003       0.007\n",
      "beta_^3       -0.0006      0.000     -2.658      0.008      -0.001      -0.000\n",
      "==============================================================================\n",
      "Omnibus:                   117699.758   Durbin-Watson:                   1.862\n",
      "Prob(Omnibus):                  0.000   Jarque-Bera (JB):        214870457.160\n",
      "Skew:                           5.754   Prob(JB):                         0.00\n",
      "Kurtosis:                     234.951   Cond. No.                     4.64e+14\n",
      "==============================================================================\n",
      "\n",
      "Warnings:\n",
      "[1] Standard Errors assume that the covariance matrix of the errors is correctly specified.\n",
      "[2] The condition number is large, 4.64e+14. This might indicate that there are\n",
      "strong multicollinearity or other numerical problems.\n"
     ]
    }
   ],
   "source": [
    "X_train = X.iloc[:int(0.7 * len(X.index))]\n",
    "y_train = y.iloc[:int(0.7 * len(y.index))]\n",
    "X_test = X.iloc[int(0.7 * len(X.index)):]\n",
    "y_test = y.iloc[int(0.7 * len(y.index)):]\n",
    "\n",
    "\n",
    "PR = sm.OLS(y_train, X_train[nonlinear_predictors]).fit()\n",
    "\n",
    "print(r2_score(y_test, PR.predict(X_test[nonlinear_predictors])))\n",
    "print(PR.summary())"
   ]
  },
  {
   "cell_type": "markdown",
   "metadata": {},
   "source": [
    "# Model Comparison"
   ]
  },
  {
   "cell_type": "code",
   "execution_count": 333,
   "metadata": {},
   "outputs": [
    {
     "name": "stdout",
     "output_type": "stream",
     "text": [
      "Linear        -0.0011746632198770257\n",
      "Tree          0.00041611458410838463\n",
      "Polynomial    0.00016015131100776124\n",
      "Lasso         -0.0012421215581979728\n",
      "Ridge         0.00016027718504232346\n"
     ]
    }
   ],
   "source": [
    "cv = 10\n",
    "\n",
    "# X_ = X[df_eligible['date'].isin(dates)].astype('float64')\n",
    "\n",
    "print(\"Linear       \", np.mean(cross_val_score(estimator=LinearRegression(), X=X[linear_predictors], y=y, scoring='r2', cv=cv)))\n",
    "print(\"Tree         \", np.mean(cross_val_score(estimator=DecisionTreeRegressor(max_depth=2), X=X[nonlinear_predictors], y=y, scoring='r2', cv=cv)))\n",
    "print(\"Polynomial   \", np.mean(cross_val_score(estimator=LinearRegression(), X=X[nonlinear_predictors], y=y, scoring='r2', cv=cv)))\n",
    "print(\"Lasso        \", np.mean(cross_val_score(estimator=Lasso(alpha=2), X=X[nonlinear_predictors], y=y, scoring='r2', cv=cv)))\n",
    "print(\"Ridge        \", np.mean(cross_val_score(estimator=Ridge(alpha=2), X=X[nonlinear_predictors], y=y, scoring='r2', cv=cv)))\n"
   ]
  },
  {
   "cell_type": "code",
   "execution_count": null,
   "metadata": {
    "scrolled": true
   },
   "outputs": [],
   "source": [
    "def describe_r2(model, predictors):\n",
    "    r2_ts = pd.DataFrame(columns=['model_R2'], index=dates)\n",
    "\n",
    "    for i in range(1,len(dates)-37):\n",
    "        X_train, y_train, X_test, y_test = prepare_data(i, 36)\n",
    "        X_train, X_test = X_train[predictors], X_test[predictors]\n",
    "\n",
    "        try:\n",
    "            model.fit(X_train, y_train)\n",
    "            pred = model.predict(X_test)\n",
    "            r2_ts['model_R2'].iloc[i] = r2_score(y_test, pred)\n",
    "\n",
    "        except ValueError as err:\n",
    "            print(err)\n",
    "\n",
    "    fig, ax = plt.subplots()\n",
    "    ax.plot(r2_ts)\n",
    "    plt.legend(r2_ts.columns)\n",
    "    print(\"Mean:  \", r2_ts.mean())\n",
    "    print(\"Median:\", np.median(r2_ts))\n",
    "\n",
    "describe_r2(model=DecisionTreeRegressor(max_depth=3), predictors=nonlinear_predictors)\n"
   ]
  },
  {
   "cell_type": "markdown",
   "metadata": {},
   "source": [
    "## *Neural Networks*"
   ]
  },
  {
   "cell_type": "code",
   "execution_count": 182,
   "metadata": {},
   "outputs": [],
   "source": [
    "\n",
    "\n",
    "# def norm(x):\n",
    "#     return (x-x.describe().transpose()['mean'])/x.describe().transpose()['std']\n",
    "\n",
    "# normXtrain = norm(X_train.drop('const', axis=1))\n",
    "# normXtest = norm(X_test.drop('const', axis=1))\n",
    "\n",
    "# model = Sequential()\n",
    "\n",
    "# model.add(Dense(8, input_dim=len(normXtrain.columns), activation='relu'))\n",
    "# model.add(Dense(1, activation='softmax'))\n",
    "# model.compile(loss='mean_squared_error', optimizer='adam')\n",
    "# model.fit(normXtrain, y_train, epochs=5, batch_size=2, verbose=2)\n",
    "\n",
    "# model.predict(normXtest)"
   ]
  }
 ],
 "metadata": {
  "kernelspec": {
   "display_name": "Python 3",
   "language": "python",
   "name": "python3"
  },
  "language_info": {
   "codemirror_mode": {
    "name": "ipython",
    "version": 3
   },
   "file_extension": ".py",
   "mimetype": "text/x-python",
   "name": "python",
   "nbconvert_exporter": "python",
   "pygments_lexer": "ipython3",
   "version": "3.7.6"
  }
 },
 "nbformat": 4,
 "nbformat_minor": 2
}
