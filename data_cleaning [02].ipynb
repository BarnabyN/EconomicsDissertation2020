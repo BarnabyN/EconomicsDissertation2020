{
 "cells": [
  {
   "cell_type": "markdown",
   "metadata": {},
   "source": [
    "# Import libraries"
   ]
  },
  {
   "cell_type": "code",
   "execution_count": 1,
   "metadata": {},
   "outputs": [],
   "source": [
    "import pandas as pd\n",
    "import numpy as np\n",
    "import xlwings as xw\n",
    "import matplotlib.pyplot as plt"
   ]
  },
  {
   "cell_type": "markdown",
   "metadata": {},
   "source": [
    "# Define global variables"
   ]
  },
  {
   "cell_type": "code",
   "execution_count": 15,
   "metadata": {},
   "outputs": [],
   "source": [
    "xlDataName = '\\DissData [02]'\n",
    "dataFolder = r\"C:\\Users\\rfg\\OneDrive\\Desktop\\Dissertation ES30029\\data\"\n",
    "companyNamesRange = \"A1:A2009\"\n",
    "cellRng = \"A1:BYH288\"\n",
    "xlBook = xw.books(xlDataName[1:])\n",
    "sheetWhitelist = ['all_companies']\n",
    "fields = []"
   ]
  },
  {
   "cell_type": "markdown",
   "metadata": {},
   "source": [
    "# Read data from Excel"
   ]
  },
  {
   "cell_type": "code",
   "execution_count": 16,
   "metadata": {},
   "outputs": [],
   "source": [
    "# Requires file to be open, but is SO MUCH FASTER\n",
    "# p = pd.DataFrame(xw.books(xlDataName[1:]).sheets(\"p\").range(cellRng).value)\n",
    "# pe = pd.DataFrame(xw.books(xlDataName[1:]).sheets(\"pe\").range(cellRng).value)\n",
    "# fcf = pd.DataFrame(xw.books(xlDataName[1:]).sheets(\"fcf\").range(cellRng).value)\n",
    "# eps = pd.DataFrame(xw.books(xlDataName[1:]).sheets(\"eps\").range(cellRng).value)\n",
    "# ptbv = pd.DataFrame(xw.books(xlDataName[1:]).sheets(\"ptbv\").range(cellRng).value)\n",
    "# dy = pd.DataFrame(xw.books(xlDataName[1:]).sheets(\"dy\").range(cellRng).value)\n",
    "# mv = pd.DataFrame(xw.books(xlDataName[1:]).sheets(\"mv\").range(cellRng).value)\n",
    "# gpmarg = pd.DataFrame(xw.books(xlDataName[1:]).sheets(\"gpmarg\").range(cellRng).value)\n",
    "# roe = pd.DataFrame(xw.books(xlDataName[1:]).sheets(\"roe\").range(cellRng).value)\n",
    "# roic = pd.DataFrame(xw.books(xlDataName[1:]).sheets(\"roic\").range(cellRng).value)\n",
    "# opmarg = pd.DataFrame(xw.books(xlDataName[1:]).sheets(\"opmarg\").range(cellRng).value)\n",
    "# debtpct = pd.DataFrame(xw.books(xlDataName[1:]).sheets(\"debtpct\").range(cellRng).value)\n",
    "\n",
    "for sheet in xlBook.sheets:\n",
    "    if sheet.name not in sheetWhitelist:\n",
    "        exec('{} = pd.DataFrame(xw.books(xlDataName[1:]).sheets(\"{}\").range(cellRng).value)'.format(sheet.name, sheet.name))\n",
    "        exec('fields.append({})'.format(sheet.name))\n",
    "        \n",
    "\n",
    "\n",
    "# Clean up the dataframes to have correct cols and rows\n",
    "for field in fields:\n",
    "    companyNames = [str(i) for i in xlBook.sheets(\"all_companies\").range(companyNamesRange).value]\n",
    "    companyNames.insert(0, field.iloc[0][0])\n",
    "    field.columns = companyNames\n",
    "    field.index = field[field.columns[0]]\n",
    "    del field[field.columns[0]]\n",
    "    field.drop(field.index[0], inplace=True)\n",
    "    field.replace(\"NA\", np.nan, inplace=True)\n",
    "    field = field.apply(pd.to_numeric,errors='coerce')\n",
    "    "
   ]
  },
  {
   "cell_type": "markdown",
   "metadata": {},
   "source": [
    "\n",
    "# Data Cleaning"
   ]
  },
  {
   "cell_type": "markdown",
   "metadata": {},
   "source": [
    "### Remove series with no price data"
   ]
  },
  {
   "cell_type": "code",
   "execution_count": 17,
   "metadata": {},
   "outputs": [],
   "source": [
    "# There are 16 series of this sort\n",
    "errorSeries = []\n",
    "for i in p.columns:\n",
    "    try:\n",
    "        m = max(p[i])\n",
    "    except:\n",
    "        errorSeries.append(i)"
   ]
  },
  {
   "cell_type": "code",
   "execution_count": 18,
   "metadata": {},
   "outputs": [],
   "source": [
    "for field in fields:\n",
    "    for series in errorSeries:\n",
    "        del field[series]"
   ]
  },
  {
   "cell_type": "markdown",
   "metadata": {},
   "source": [
    "# Data Calculation"
   ]
  },
  {
   "cell_type": "markdown",
   "metadata": {},
   "source": [
    "### Returns"
   ]
  },
  {
   "cell_type": "code",
   "execution_count": 19,
   "metadata": {},
   "outputs": [],
   "source": [
    "r = p/p.shift(1)-1"
   ]
  },
  {
   "cell_type": "code",
   "execution_count": 20,
   "metadata": {},
   "outputs": [],
   "source": [
    "ret_l3m = (1+r).rolling(window=3).apply(np.prod, raw=True)-1\n",
    "ret_l6m = (1+r).rolling(window=6).apply(np.prod, raw=True)-1\n",
    "ret_l9m = (1+r).rolling(window=9).apply(np.prod, raw=True)-1\n",
    "ret_l12m = (1+r).rolling(window=12).apply(np.prod, raw=True)-1\n",
    "ret_l18m = (1+r).rolling(window=18).apply(np.prod, raw=True)-1\n",
    "ret_l24m = (1+r).rolling(window=24).apply(np.prod, raw=True)-1\n",
    "ret_l36m = (1+r).rolling(window=36).apply(np.prod, raw=True)-1"
   ]
  },
  {
   "cell_type": "markdown",
   "metadata": {},
   "source": [
    "### Moving averages"
   ]
  },
  {
   "cell_type": "code",
   "execution_count": 21,
   "metadata": {
    "scrolled": true
   },
   "outputs": [],
   "source": [
    "p_ma3 = p.rolling(window=3).mean()\n",
    "p_ma6 = p.rolling(window=6).mean()\n",
    "p_ma9 = p.rolling(window=9).mean()\n",
    "p_ma12 = p.rolling(window=12).mean()\n",
    "p_ma18 = p.rolling(window=18).mean()\n",
    "p_ma24 = p.rolling(window=24).mean()\n",
    "p_ma36 = p.rolling(window=36).mean()"
   ]
  },
  {
   "cell_type": "markdown",
   "metadata": {},
   "source": [
    "### Volatilities"
   ]
  },
  {
   "cell_type": "code",
   "execution_count": null,
   "metadata": {},
   "outputs": [],
   "source": [
    "std_3m = r.rolling(window=3).std() * (12 ** 0.5)\n",
    "std_6m = r.rolling(window=6).std() * (12 ** 0.5)\n",
    "std_9m = r.rolling(window=9).std() * (12 ** 0.5)\n",
    "std_12m = r.rolling(window=12).std() * (12 ** 0.5)\n",
    "std_18m = r.rolling(window=18).std() * (12 ** 0.5)\n",
    "std_24m = r.rolling(window=24).std() * (12 ** 0.5)\n",
    "std_36m = r.rolling(window=36).std() * (12 ** 0.5)"
   ]
  },
  {
   "cell_type": "markdown",
   "metadata": {},
   "source": [
    "# Export Data"
   ]
  },
  {
   "cell_type": "markdown",
   "metadata": {},
   "source": [
    "### Numpy file"
   ]
  },
  {
   "cell_type": "code",
   "execution_count": null,
   "metadata": {},
   "outputs": [],
   "source": [
    "# Also save index and columns so that you can load up data with these\n",
    "np.save(file=dataFolder+r'\\npData.npy', arr=p)\n",
    "np.save(file=dataFolder+'\\index.npy', arr=p.index)\n",
    "np.save(file=dataFolder+'\\columns.npy', arr=p.columns)"
   ]
  },
  {
   "cell_type": "code",
   "execution_count": null,
   "metadata": {},
   "outputs": [],
   "source": [
    "np.stack(fields, axis=2).shape"
   ]
  },
  {
   "cell_type": "code",
   "execution_count": null,
   "metadata": {},
   "outputs": [],
   "source": []
  }
 ],
 "metadata": {
  "kernelspec": {
   "display_name": "Python 3",
   "language": "python",
   "name": "python3"
  },
  "language_info": {
   "codemirror_mode": {
    "name": "ipython",
    "version": 3
   },
   "file_extension": ".py",
   "mimetype": "text/x-python",
   "name": "python",
   "nbconvert_exporter": "python",
   "pygments_lexer": "ipython3",
   "version": "3.7.5"
  }
 },
 "nbformat": 4,
 "nbformat_minor": 2
}
