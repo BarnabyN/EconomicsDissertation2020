{
 "cells": [
  {
   "cell_type": "markdown",
   "metadata": {},
   "source": [
    "# Import libraries"
   ]
  },
  {
   "cell_type": "code",
   "execution_count": 1,
   "metadata": {},
   "outputs": [],
   "source": [
    "import pandas as pd\n",
    "import numpy as np\n",
    "import xlwings as xw\n",
    "import matplotlib.pyplot as plt\n",
    "import os\n",
    "import datetime as dt"
   ]
  },
  {
   "cell_type": "markdown",
   "metadata": {},
   "source": [
    "# Define Globals"
   ]
  },
  {
   "cell_type": "code",
   "execution_count": 2,
   "metadata": {},
   "outputs": [],
   "source": [
    "xlDataName = '/DissData (04).xlsx'\n",
    "dataFolder = \"/Users/barnabynapier/OneDrive/Dissertation ES30029/data\"\n",
    "companyNamesRange = \"A1:A2009\"\n",
    "cellRng = \"A1:BYH288\"\n",
    "xlBook = xw.books[xlDataName[1:]]\n",
    "sheetWhitelist = ['all_companies']\n",
    "sectors = ['dsindustry6', 'icbindustry2']\n",
    "rfrate = 'gilt3m'\n",
    "fields = []"
   ]
  },
  {
   "cell_type": "markdown",
   "metadata": {},
   "source": [
    "# Read data from Excel"
   ]
  },
  {
   "cell_type": "code",
   "execution_count": 3,
   "metadata": {
    "scrolled": false
   },
   "outputs": [
    {
     "name": "stdout",
     "output_type": "stream",
     "text": [
      "p\n",
      "so\n",
      "eps\n",
      "mvtbv\n",
      "dy\n",
      "mv\n",
      "dsindustry6\n",
      "icbindustry2\n",
      "fcf\n",
      "opmarg\n",
      "roe\n",
      "roic\n",
      "debtpct\n",
      "gilt3m\n",
      "allshare\n",
      "beta\n"
     ]
    }
   ],
   "source": [
    "fields = []\n",
    "for sheet in xlBook.sheets:\n",
    "    if sheet.name not in sheetWhitelist:\n",
    "        exec('{} = pd.DataFrame(xw.books(xlDataName[1:]).sheets(\"{}\").range(cellRng).value)'.format(sheet.name, sheet.name))\n",
    "        exec('fields.append({})'.format(sheet.name))\n",
    "        exec('{}.name = \"{}\"'.format(sheet.name, sheet.name))\n",
    "        exec('{}.iloc[0][0] = \"{}\"'.format(sheet.name, sheet.name))\n",
    "\n",
    "\n",
    "\n",
    "# Clean up the dataframes to have correct cols and rows\n",
    "\n",
    "for field in fields:\n",
    "    print(field.name)\n",
    "    companyNames = [str(i) for i in xlBook.sheets(\"all_companies\").range(companyNamesRange).value]\n",
    "    companyNames.insert(0, field.iloc[0][0])\n",
    "    field.columns = companyNames\n",
    "    field.index = field[field.columns[0]]\n",
    "    del field[field.columns[0]]\n",
    "    field.drop(field.index[0], inplace=True)\n",
    "    field.replace(\"NA\", np.nan, inplace=True)\n",
    "    field = field.apply(pd.to_numeric,errors='coerce')\n"
   ]
  },
  {
   "cell_type": "markdown",
   "metadata": {},
   "source": [
    "# Useful Functions"
   ]
  },
  {
   "cell_type": "code",
   "execution_count": 4,
   "metadata": {},
   "outputs": [],
   "source": [
    "def drop_from_fields(fieldName):\n",
    "    global fields\n",
    "    fields = [field for field in fields if field.name != fieldName]"
   ]
  },
  {
   "cell_type": "markdown",
   "metadata": {},
   "source": [
    "\n",
    "# Data Cleaning"
   ]
  },
  {
   "cell_type": "markdown",
   "metadata": {},
   "source": [
    "### Reshape Sectors"
   ]
  },
  {
   "cell_type": "code",
   "execution_count": 5,
   "metadata": {
    "scrolled": false
   },
   "outputs": [
    {
     "name": "stdout",
     "output_type": "stream",
     "text": [
      "dsindustry6 complete\n",
      "icbindustry2 complete\n"
     ]
    }
   ],
   "source": [
    "sectorFields = [dsindustry6, icbindustry2]\n",
    "\n",
    "dsindustry6.index = p.index\n",
    "dsindustry6[1:] = dsindustry6.iloc[0].values\n",
    "print('dsindustry6 complete')\n",
    "\n",
    "icbindustry2.index = p.index\n",
    "try:\n",
    "    icbindustry2[1:] = icbindustry2.iloc[0].values\n",
    "except:\n",
    "    print('Running slow method for indgroup')\n",
    "    for row in icbindustry2.index:\n",
    "        icbindustry2.loc[row] = icbindustry2.iloc[0].values\n",
    "print('icbindustry2 complete')"
   ]
  },
  {
   "cell_type": "markdown",
   "metadata": {},
   "source": [
    "### Reshape Risk Free Rates"
   ]
  },
  {
   "cell_type": "code",
   "execution_count": 6,
   "metadata": {},
   "outputs": [],
   "source": [
    "# Expand to all columns\n",
    "for col in gilt3m.columns:\n",
    "    gilt3m[col] = gilt3m[gilt3m.columns[0]]\n",
    "\n",
    "# Get number in correct decimal form\n",
    "gilt3m = gilt3m/100\n",
    "\n",
    "# Set gilt rate to monthly rate\n",
    "gilt3m = (1+gilt3m)**(1/12)-1\n",
    "\n",
    "gilt3m.name = 'gilt3m'\n",
    "\n",
    "# Calculations somehow made on a copy, so I need to reappend gilt3m\n",
    "fields[-3] = gilt3m"
   ]
  },
  {
   "cell_type": "markdown",
   "metadata": {},
   "source": [
    "### Reshape AllShare Returns"
   ]
  },
  {
   "cell_type": "code",
   "execution_count": 7,
   "metadata": {},
   "outputs": [],
   "source": [
    "allshare = allshare/allshare.shift(1)-1\n",
    "for col in allshare.columns:\n",
    "    allshare[col] = allshare[allshare.columns[0]]\n",
    "allshare.name = 'allshare'\n",
    "fields[-2] = allshare"
   ]
  },
  {
   "cell_type": "markdown",
   "metadata": {},
   "source": [
    "### Drop Last 10 Months (not much data)"
   ]
  },
  {
   "cell_type": "code",
   "execution_count": 8,
   "metadata": {
    "scrolled": false
   },
   "outputs": [],
   "source": [
    "for field in fields:\n",
    "    field.drop(list(field.loc[pd.datetime(2020, 1, 31):].index), axis=0, inplace=True)"
   ]
  },
  {
   "cell_type": "markdown",
   "metadata": {},
   "source": [
    "### Get Rid of Investment Trusts"
   ]
  },
  {
   "cell_type": "code",
   "execution_count": 9,
   "metadata": {},
   "outputs": [
    {
     "name": "stdout",
     "output_type": "stream",
     "text": [
      "There were 341 investment trusts in this dataset\n"
     ]
    }
   ],
   "source": [
    "trusts = [stock for stock in dsindustry6.columns if dsindustry6.iloc[0][stock] == \"Investment Trusts\"]\n",
    "print('There were {} investment trusts in this dataset'.format(int(len(trusts))))\n",
    "\n",
    "# Drop trusts from the dataset as they are not what we are looking for\n",
    "for field in fields:\n",
    "    field.drop(trusts, axis=1, inplace=True)"
   ]
  },
  {
   "cell_type": "markdown",
   "metadata": {},
   "source": [
    "### Remove series which don't have data for a field"
   ]
  },
  {
   "cell_type": "code",
   "execution_count": 10,
   "metadata": {},
   "outputs": [
    {
     "name": "stdout",
     "output_type": "stream",
     "text": [
      "(287, 1549, 16)\n"
     ]
    }
   ],
   "source": [
    "errorCols = []\n",
    "for field in fields:\n",
    "    for col in field:\n",
    "        try:\n",
    "            if field[col].iloc[0][:4] == '$$ER': \n",
    "                errorCols.append(col)\n",
    "        except:\n",
    "            pass\n",
    "\n",
    "errorCols = list(dict.fromkeys(errorCols))\n",
    "\n",
    "for field in fields:\n",
    "    for col in errorCols:\n",
    "        del field[col]\n",
    "\n",
    "print(np.stack(fields, axis=-1).shape)"
   ]
  },
  {
   "cell_type": "markdown",
   "metadata": {},
   "source": [
    "### Manipulating Fields"
   ]
  },
  {
   "cell_type": "code",
   "execution_count": 11,
   "metadata": {},
   "outputs": [],
   "source": [
    "# Perform manipulations on some of the fields\n",
    "bvtmv = 1 / mvtbv\n",
    "drop_from_fields('mvtbv')\n",
    "\n",
    "# Set name\n",
    "bvtmv.name = 'bvtmv'\n",
    "bvtmv.index.name = 'bvtmv'\n",
    "\n",
    "# Add to fields\n",
    "fields.append(bvtmv)"
   ]
  },
  {
   "cell_type": "markdown",
   "metadata": {},
   "source": [
    "# Data Calculation"
   ]
  },
  {
   "cell_type": "markdown",
   "metadata": {},
   "source": [
    "### Returns over R(f)"
   ]
  },
  {
   "cell_type": "code",
   "execution_count": 12,
   "metadata": {},
   "outputs": [],
   "source": [
    "ret = pd.DataFrame()\n",
    "\n",
    "ret = p/p.shift(1)-1\n",
    "\n",
    "ret = ret - gilt3m\n",
    "\n",
    "ret.name = 'ret'\n",
    "\n",
    "fields.append(ret)"
   ]
  },
  {
   "cell_type": "code",
   "execution_count": 13,
   "metadata": {},
   "outputs": [
    {
     "name": "stdout",
     "output_type": "stream",
     "text": [
      "(287, 1549)\n",
      "(287, 1549)\n",
      "(287, 1549)\n",
      "(287, 1549)\n",
      "(287, 1549)\n",
      "(287, 1549)\n",
      "(287, 1549)\n"
     ]
    }
   ],
   "source": [
    "ret_3m = pd.DataFrame()\n",
    "ret_6m = pd.DataFrame()\n",
    "ret_9m = pd.DataFrame()\n",
    "ret_12m = pd.DataFrame()\n",
    "ret_18m = pd.DataFrame()\n",
    "ret_24m = pd.DataFrame()\n",
    "ret_36m = pd.DataFrame()\n",
    "\n",
    "ret_3m = (1+ret).rolling(window=3).apply(np.prod, raw=True)-1\n",
    "ret_6m = (1+ret).rolling(window=6).apply(np.prod, raw=True)-1\n",
    "ret_9m = (1+ret).rolling(window=9).apply(np.prod, raw=True)-1\n",
    "ret_12m = (1+ret).rolling(window=12).apply(np.prod, raw=True)-1\n",
    "ret_18m = (1+ret).rolling(window=18).apply(np.prod, raw=True)-1\n",
    "ret_24m = (1+ret).rolling(window=24).apply(np.prod, raw=True)-1\n",
    "ret_36m = (1+ret).rolling(window=36).apply(np.prod, raw=True)-1\n",
    "\n",
    "ret_3m.name = 'ret_3m'\n",
    "ret_6m.name = 'ret_6m'\n",
    "ret_9m.name = 'ret_9m'\n",
    "ret_12m.name = 'ret_12m'\n",
    "ret_18m.name = 'ret_18m'\n",
    "ret_24m.name = 'ret_24m'\n",
    "ret_36m.name = 'ret_36m'\n",
    "\n",
    "rollingReturns = [ret_3m, ret_6m, ret_9m, ret_12m, ret_18m, ret_24m, ret_36m]\n",
    "for i in rollingReturns:\n",
    "    print(i.values.shape)\n",
    "\n",
    "for i in rollingReturns:\n",
    "    fields.append(i)"
   ]
  },
  {
   "cell_type": "markdown",
   "metadata": {},
   "source": [
    "### Returns over Market"
   ]
  },
  {
   "cell_type": "code",
   "execution_count": 14,
   "metadata": {},
   "outputs": [],
   "source": [
    "retxs = pd.DataFrame()\n",
    "\n",
    "retxs = p/p.shift(1)-1\n",
    "\n",
    "retxs = retxs - allshare\n",
    "\n",
    "retxs.name = 'retxs'\n",
    "\n",
    "fields.append(retxs)"
   ]
  },
  {
   "cell_type": "code",
   "execution_count": 15,
   "metadata": {},
   "outputs": [
    {
     "name": "stdout",
     "output_type": "stream",
     "text": [
      "(287, 1549)\n",
      "(287, 1549)\n",
      "(287, 1549)\n",
      "(287, 1549)\n",
      "(287, 1549)\n",
      "(287, 1549)\n",
      "(287, 1549)\n"
     ]
    }
   ],
   "source": [
    "retxs_3m = pd.DataFrame()\n",
    "retxs_6m = pd.DataFrame()\n",
    "retxs_9m = pd.DataFrame()\n",
    "retxs_12m = pd.DataFrame()\n",
    "retxs_18m = pd.DataFrame()\n",
    "retxs_24m = pd.DataFrame()\n",
    "retxs_36m = pd.DataFrame()\n",
    "\n",
    "retxs_3m = (1+retxs).rolling(window=3).apply(np.prod, raw=True)-1\n",
    "retxs_6m = (1+retxs).rolling(window=6).apply(np.prod, raw=True)-1\n",
    "retxs_9m = (1+retxs).rolling(window=9).apply(np.prod, raw=True)-1\n",
    "retxs_12m = (1+retxs).rolling(window=12).apply(np.prod, raw=True)-1\n",
    "retxs_18m = (1+retxs).rolling(window=18).apply(np.prod, raw=True)-1\n",
    "retxs_24m = (1+retxs).rolling(window=24).apply(np.prod, raw=True)-1\n",
    "retxs_36m = (1+retxs).rolling(window=36).apply(np.prod, raw=True)-1\n",
    "\n",
    "retxs_3m.name = 'retxs_3m'\n",
    "retxs_6m.name = 'retxs_6m'\n",
    "retxs_9m.name = 'retxs_9m'\n",
    "retxs_12m.name = 'retxs_12m'\n",
    "retxs_18m.name = 'retxs_18m'\n",
    "retxs_24m.name = 'retxs_24m'\n",
    "retxs_36m.name = 'retxs_36m'\n",
    "\n",
    "rollingxsReturns = [retxs_3m, retxs_6m, retxs_9m, retxs_12m, retxs_18m, retxs_24m, retxs_36m]\n",
    "for i in rollingxsReturns:\n",
    "    print(i.values.shape)\n",
    "\n",
    "for i in rollingxsReturns:\n",
    "    fields.append(i)"
   ]
  },
  {
   "cell_type": "markdown",
   "metadata": {},
   "source": [
    "### Beta's"
   ]
  },
  {
   "cell_type": "code",
   "execution_count": 16,
   "metadata": {},
   "outputs": [],
   "source": [
    "# Get these from the beta calculation done by DS\n",
    "pass"
   ]
  },
  {
   "cell_type": "markdown",
   "metadata": {},
   "source": [
    "### Moving averages"
   ]
  },
  {
   "cell_type": "code",
   "execution_count": 17,
   "metadata": {
    "scrolled": true
   },
   "outputs": [
    {
     "name": "stdout",
     "output_type": "stream",
     "text": [
      "(287, 1549)\n",
      "(287, 1549)\n",
      "(287, 1549)\n",
      "(287, 1549)\n",
      "(287, 1549)\n",
      "(287, 1549)\n",
      "(287, 1549)\n"
     ]
    }
   ],
   "source": [
    "map_3m = pd.DataFrame()\n",
    "map_6m = pd.DataFrame()\n",
    "map_9m = pd.DataFrame()\n",
    "map_12m = pd.DataFrame()\n",
    "map_18m = pd.DataFrame()\n",
    "map_24m = pd.DataFrame()\n",
    "map_36m = pd.DataFrame()\n",
    "\n",
    "# Calculate moving averages\n",
    "map_3m = p.rolling(window=3).mean()\n",
    "map_6m = p.rolling(window=6).mean()\n",
    "map_9m = p.rolling(window=9).mean()\n",
    "map_12m = p.rolling(window=12).mean()\n",
    "map_18m = p.rolling(window=18).mean()\n",
    "map_24m = p.rolling(window=24).mean()\n",
    "map_36m = p.rolling(window=36).mean()\n",
    "\n",
    "map_3m.name = 'map_3m'\n",
    "map_6m.name = 'map_6m'\n",
    "map_9m.name = 'map_9m'\n",
    "map_12m.name = 'map_12m'\n",
    "map_18m.name = 'map_18m'\n",
    "map_24m.name = 'map_24m'\n",
    "map_36m.name = 'map_36m'\n",
    "\n",
    "# Technical indicators (crosses of MAVs for example)\n",
    "\n",
    "movingAverages = [map_3m, map_6m, map_9m, map_12m, map_18m, map_24m, map_36m]\n",
    "for i in movingAverages:\n",
    "    print(i.values.shape)\n",
    "\n",
    "for i in movingAverages:\n",
    "    fields.append(i)"
   ]
  },
  {
   "cell_type": "markdown",
   "metadata": {},
   "source": [
    "### Volatilities"
   ]
  },
  {
   "cell_type": "code",
   "execution_count": 18,
   "metadata": {},
   "outputs": [
    {
     "name": "stdout",
     "output_type": "stream",
     "text": [
      "(287, 1549)\n",
      "(287, 1549)\n",
      "(287, 1549)\n",
      "(287, 1549)\n",
      "(287, 1549)\n",
      "(287, 1549)\n",
      "(287, 1549)\n"
     ]
    }
   ],
   "source": [
    "std_3m = pd.DataFrame()\n",
    "std_6m = pd.DataFrame()\n",
    "std_9m = pd.DataFrame()\n",
    "std_12m = pd.DataFrame()\n",
    "std_18m = pd.DataFrame()\n",
    "std_24m = pd.DataFrame()\n",
    "std_36m = pd.DataFrame()\n",
    "\n",
    "std_3m = ret.rolling(window=3).std() * (12 ** 0.5)\n",
    "std_6m = ret.rolling(window=6).std() * (12 ** 0.5)\n",
    "std_9m = ret.rolling(window=9).std() * (12 ** 0.5)\n",
    "std_12m = ret.rolling(window=12).std() * (12 ** 0.5)\n",
    "std_18m = ret.rolling(window=18).std() * (12 ** 0.5)\n",
    "std_24m = ret.rolling(window=24).std() * (12 ** 0.5)\n",
    "std_36m = ret.rolling(window=36).std() * (12 ** 0.5)\n",
    "\n",
    "std_3m.name = 'std_3m'\n",
    "std_6m.name = 'std_6m'\n",
    "std_9m.name = 'std_9m'\n",
    "std_12m.name = 'std_12m'\n",
    "std_18m.name = 'std_18m'\n",
    "std_24m.name = 'std_24m'\n",
    "std_36m.name = 'std_36m'\n",
    "\n",
    "volatilities = [std_3m, std_6m, std_9m, std_12m, std_18m, std_24m, std_36m]\n",
    "for i in volatilities:\n",
    "    print(i.values.shape)\n",
    "\n",
    "for i in volatilities:\n",
    "    fields.append(i)"
   ]
  },
  {
   "cell_type": "markdown",
   "metadata": {},
   "source": [
    "### Sector Dummy Variables"
   ]
  },
  {
   "cell_type": "code",
   "execution_count": 19,
   "metadata": {},
   "outputs": [
    {
     "name": "stderr",
     "output_type": "stream",
     "text": [
      "/Library/Frameworks/Python.framework/Versions/3.7/lib/python3.7/site-packages/pandas/core/ops/__init__.py:1115: FutureWarning: elementwise comparison failed; returning scalar instead, but in the future will perform elementwise comparison\n",
      "  result = method(y)\n"
     ]
    }
   ],
   "source": [
    "# Create list of sector dummies\n",
    "sectorDummies = []\n",
    "for sector in list(icbindustry2.iloc[0].drop_duplicates())[:-3]:\n",
    "    sectorname = \"ind_{}\".format(sector.lower().replace(' ', ''))\n",
    "    exec('{} = (icbindustry2 == sector) * 1'.format(sectorname))\n",
    "    exec('{}.name = \"{}\"'.format(sectorname, sectorname))\n",
    "    exec('{}.index.name = \"{}\"'.format(sectorname, sectorname))\n",
    "    exec('sectorDummies.append({})'.format(sectorname))\n",
    "\n",
    "for i in sectorDummies:\n",
    "    fields.append(i)\n"
   ]
  },
  {
   "cell_type": "markdown",
   "metadata": {},
   "source": [
    "# Create Master Dataframe"
   ]
  },
  {
   "cell_type": "code",
   "execution_count": 21,
   "metadata": {
    "scrolled": true
   },
   "outputs": [
    {
     "name": "stdout",
     "output_type": "stream",
     "text": [
      "completed 1995-12-31 00:00:00\n",
      "completed 1996-01-31 00:00:00\n",
      "completed 1996-02-29 00:00:00\n",
      "completed 1996-03-29 00:00:00\n",
      "completed 1996-04-30 00:00:00\n",
      "completed 1996-05-31 00:00:00\n",
      "completed 1996-06-28 00:00:00\n",
      "completed 1996-07-31 00:00:00\n",
      "completed 1996-08-30 00:00:00\n",
      "completed 1996-09-30 00:00:00\n",
      "completed 1996-10-31 00:00:00\n",
      "completed 1996-11-29 00:00:00\n",
      "completed 1996-12-31 00:00:00\n",
      "completed 1997-01-31 00:00:00\n",
      "completed 1997-02-28 00:00:00\n",
      "completed 1997-03-31 00:00:00\n",
      "completed 1997-04-30 00:00:00\n",
      "completed 1997-05-30 00:00:00\n",
      "completed 1997-06-30 00:00:00\n",
      "completed 1997-07-31 00:00:00\n",
      "completed 1997-08-29 00:00:00\n",
      "completed 1997-09-30 00:00:00\n",
      "completed 1997-10-31 00:00:00\n",
      "completed 1997-11-28 00:00:00\n",
      "completed 1997-12-31 00:00:00\n",
      "completed 1998-01-30 00:00:00\n",
      "completed 1998-02-27 00:00:00\n",
      "completed 1998-03-31 00:00:00\n",
      "completed 1998-04-30 00:00:00\n",
      "completed 1998-05-29 00:00:00\n",
      "completed 1998-06-30 00:00:00\n",
      "completed 1998-07-31 00:00:00\n",
      "completed 1998-08-31 00:00:00\n",
      "completed 1998-09-30 00:00:00\n",
      "completed 1998-10-30 00:00:00\n",
      "completed 1998-11-30 00:00:00\n",
      "completed 1998-12-31 00:00:00\n",
      "completed 1999-01-29 00:00:00\n",
      "completed 1999-02-26 00:00:00\n",
      "completed 1999-03-31 00:00:00\n",
      "completed 1999-04-30 00:00:00\n",
      "completed 1999-05-31 00:00:00\n",
      "completed 1999-06-30 00:00:00\n",
      "completed 1999-07-30 00:00:00\n",
      "completed 1999-08-31 00:00:00\n",
      "completed 1999-09-30 00:00:00\n",
      "completed 1999-10-29 00:00:00\n",
      "completed 1999-11-30 00:00:00\n",
      "completed 1999-12-31 00:00:00\n",
      "completed 2000-01-31 00:00:00\n",
      "completed 2000-02-29 00:00:00\n",
      "completed 2000-03-31 00:00:00\n",
      "completed 2000-04-28 00:00:00\n",
      "completed 2000-05-31 00:00:00\n",
      "completed 2000-06-30 00:00:00\n",
      "completed 2000-07-31 00:00:00\n",
      "completed 2000-08-31 00:00:00\n",
      "completed 2000-09-29 00:00:00\n",
      "completed 2000-10-31 00:00:00\n",
      "completed 2000-11-30 00:00:00\n",
      "completed 2000-12-29 00:00:00\n",
      "completed 2001-01-31 00:00:00\n",
      "completed 2001-02-28 00:00:00\n",
      "completed 2001-03-30 00:00:00\n",
      "completed 2001-04-30 00:00:00\n",
      "completed 2001-05-31 00:00:00\n",
      "completed 2001-06-29 00:00:00\n",
      "completed 2001-07-31 00:00:00\n",
      "completed 2001-08-31 00:00:00\n",
      "completed 2001-09-28 00:00:00\n",
      "completed 2001-10-31 00:00:00\n",
      "completed 2001-11-30 00:00:00\n",
      "completed 2001-12-31 00:00:00\n",
      "completed 2002-01-31 00:00:00\n",
      "completed 2002-02-28 00:00:00\n",
      "completed 2002-03-29 00:00:00\n",
      "completed 2002-04-30 00:00:00\n",
      "completed 2002-05-31 00:00:00\n",
      "completed 2002-06-28 00:00:00\n",
      "completed 2002-07-31 00:00:00\n",
      "completed 2002-08-30 00:00:00\n",
      "completed 2002-09-30 00:00:00\n",
      "completed 2002-10-31 00:00:00\n",
      "completed 2002-11-29 00:00:00\n",
      "completed 2002-12-31 00:00:00\n",
      "completed 2003-01-31 00:00:00\n",
      "completed 2003-02-28 00:00:00\n",
      "completed 2003-03-31 00:00:00\n",
      "completed 2003-04-30 00:00:00\n",
      "completed 2003-05-30 00:00:00\n",
      "completed 2003-06-30 00:00:00\n",
      "completed 2003-07-31 00:00:00\n",
      "completed 2003-08-29 00:00:00\n",
      "completed 2003-09-30 00:00:00\n",
      "completed 2003-10-31 00:00:00\n",
      "completed 2003-11-28 00:00:00\n",
      "completed 2003-12-31 00:00:00\n",
      "completed 2004-01-30 00:00:00\n",
      "completed 2004-02-27 00:00:00\n",
      "completed 2004-03-31 00:00:00\n",
      "completed 2004-04-30 00:00:00\n",
      "completed 2004-05-31 00:00:00\n",
      "completed 2004-06-30 00:00:00\n",
      "completed 2004-07-30 00:00:00\n",
      "completed 2004-08-31 00:00:00\n",
      "completed 2004-09-30 00:00:00\n",
      "completed 2004-10-29 00:00:00\n",
      "completed 2004-11-30 00:00:00\n",
      "completed 2004-12-31 00:00:00\n",
      "completed 2005-01-31 00:00:00\n",
      "completed 2005-02-28 00:00:00\n",
      "completed 2005-03-31 00:00:00\n",
      "completed 2005-04-29 00:00:00\n",
      "completed 2005-05-31 00:00:00\n",
      "completed 2005-06-30 00:00:00\n",
      "completed 2005-07-29 00:00:00\n",
      "completed 2005-08-31 00:00:00\n",
      "completed 2005-09-30 00:00:00\n",
      "completed 2005-10-31 00:00:00\n",
      "completed 2005-11-30 00:00:00\n",
      "completed 2005-12-30 00:00:00\n",
      "completed 2006-01-31 00:00:00\n",
      "completed 2006-02-28 00:00:00\n",
      "completed 2006-03-31 00:00:00\n",
      "completed 2006-04-28 00:00:00\n",
      "completed 2006-05-31 00:00:00\n",
      "completed 2006-06-30 00:00:00\n",
      "completed 2006-07-31 00:00:00\n",
      "completed 2006-08-31 00:00:00\n",
      "completed 2006-09-29 00:00:00\n",
      "completed 2006-10-31 00:00:00\n",
      "completed 2006-11-30 00:00:00\n",
      "completed 2006-12-29 00:00:00\n",
      "completed 2007-01-31 00:00:00\n",
      "completed 2007-02-28 00:00:00\n",
      "completed 2007-03-30 00:00:00\n",
      "completed 2007-04-30 00:00:00\n",
      "completed 2007-05-31 00:00:00\n",
      "completed 2007-06-29 00:00:00\n",
      "completed 2007-07-31 00:00:00\n",
      "completed 2007-08-31 00:00:00\n",
      "completed 2007-09-28 00:00:00\n",
      "completed 2007-10-31 00:00:00\n",
      "completed 2007-11-30 00:00:00\n",
      "completed 2007-12-31 00:00:00\n",
      "completed 2008-01-31 00:00:00\n",
      "completed 2008-02-29 00:00:00\n",
      "completed 2008-03-31 00:00:00\n",
      "completed 2008-04-30 00:00:00\n",
      "completed 2008-05-30 00:00:00\n",
      "completed 2008-06-30 00:00:00\n",
      "completed 2008-07-31 00:00:00\n",
      "completed 2008-08-29 00:00:00\n",
      "completed 2008-09-30 00:00:00\n",
      "completed 2008-10-31 00:00:00\n",
      "completed 2008-11-28 00:00:00\n",
      "completed 2008-12-31 00:00:00\n",
      "completed 2009-01-30 00:00:00\n",
      "completed 2009-02-27 00:00:00\n",
      "completed 2009-03-31 00:00:00\n",
      "completed 2009-04-30 00:00:00\n",
      "completed 2009-05-29 00:00:00\n",
      "completed 2009-06-30 00:00:00\n",
      "completed 2009-07-31 00:00:00\n",
      "completed 2009-08-31 00:00:00\n",
      "completed 2009-09-30 00:00:00\n",
      "completed 2009-10-30 00:00:00\n",
      "completed 2009-11-30 00:00:00\n",
      "completed 2009-12-31 00:00:00\n",
      "completed 2010-01-29 00:00:00\n",
      "completed 2010-02-26 00:00:00\n",
      "completed 2010-03-31 00:00:00\n",
      "completed 2010-04-30 00:00:00\n",
      "completed 2010-05-31 00:00:00\n",
      "completed 2010-06-30 00:00:00\n",
      "completed 2010-07-30 00:00:00\n",
      "completed 2010-08-31 00:00:00\n",
      "completed 2010-09-30 00:00:00\n",
      "completed 2010-10-29 00:00:00\n",
      "completed 2010-11-30 00:00:00\n",
      "completed 2010-12-31 00:00:00\n",
      "completed 2011-01-31 00:00:00\n",
      "completed 2011-02-28 00:00:00\n",
      "completed 2011-03-31 00:00:00\n",
      "completed 2011-04-29 00:00:00\n",
      "completed 2011-05-31 00:00:00\n",
      "completed 2011-06-30 00:00:00\n",
      "completed 2011-07-29 00:00:00\n",
      "completed 2011-08-31 00:00:00\n",
      "completed 2011-09-30 00:00:00\n",
      "completed 2011-10-31 00:00:00\n",
      "completed 2011-11-30 00:00:00\n",
      "completed 2011-12-30 00:00:00\n",
      "completed 2012-01-31 00:00:00\n",
      "completed 2012-02-29 00:00:00\n",
      "completed 2012-03-30 00:00:00\n",
      "completed 2012-04-30 00:00:00\n",
      "completed 2012-05-31 00:00:00\n",
      "completed 2012-06-29 00:00:00\n",
      "completed 2012-07-31 00:00:00\n",
      "completed 2012-08-31 00:00:00\n",
      "completed 2012-09-28 00:00:00\n",
      "completed 2012-10-31 00:00:00\n",
      "completed 2012-11-30 00:00:00\n",
      "completed 2012-12-31 00:00:00\n",
      "completed 2013-01-31 00:00:00\n",
      "completed 2013-02-28 00:00:00\n",
      "completed 2013-03-29 00:00:00\n",
      "completed 2013-04-30 00:00:00\n",
      "completed 2013-05-31 00:00:00\n",
      "completed 2013-06-28 00:00:00\n",
      "completed 2013-07-31 00:00:00\n",
      "completed 2013-08-30 00:00:00\n",
      "completed 2013-09-30 00:00:00\n",
      "completed 2013-10-31 00:00:00\n",
      "completed 2013-11-29 00:00:00\n",
      "completed 2013-12-31 00:00:00\n",
      "completed 2014-01-31 00:00:00\n",
      "completed 2014-02-28 00:00:00\n",
      "completed 2014-03-31 00:00:00\n",
      "completed 2014-04-30 00:00:00\n",
      "completed 2014-05-30 00:00:00\n",
      "completed 2014-06-30 00:00:00\n",
      "completed 2014-07-31 00:00:00\n",
      "completed 2014-08-29 00:00:00\n",
      "completed 2014-09-30 00:00:00\n",
      "completed 2014-10-31 00:00:00\n",
      "completed 2014-11-28 00:00:00\n",
      "completed 2014-12-31 00:00:00\n",
      "completed 2015-01-30 00:00:00\n",
      "completed 2015-02-27 00:00:00\n",
      "completed 2015-03-31 00:00:00\n",
      "completed 2015-04-30 00:00:00\n",
      "completed 2015-05-29 00:00:00\n",
      "completed 2015-06-30 00:00:00\n",
      "completed 2015-07-31 00:00:00\n",
      "completed 2015-08-31 00:00:00\n",
      "completed 2015-09-30 00:00:00\n",
      "completed 2015-10-30 00:00:00\n",
      "completed 2015-11-30 00:00:00\n",
      "completed 2015-12-31 00:00:00\n",
      "completed 2016-01-29 00:00:00\n",
      "completed 2016-02-29 00:00:00\n",
      "completed 2016-03-31 00:00:00\n",
      "completed 2016-04-29 00:00:00\n",
      "completed 2016-05-31 00:00:00\n",
      "completed 2016-06-30 00:00:00\n",
      "completed 2016-07-29 00:00:00\n",
      "completed 2016-08-31 00:00:00\n",
      "completed 2016-09-30 00:00:00\n",
      "completed 2016-10-31 00:00:00\n",
      "completed 2016-11-30 00:00:00\n",
      "completed 2016-12-30 00:00:00\n",
      "completed 2017-01-31 00:00:00\n",
      "completed 2017-02-28 00:00:00\n",
      "completed 2017-03-31 00:00:00\n",
      "completed 2017-04-28 00:00:00\n",
      "completed 2017-05-31 00:00:00\n",
      "completed 2017-06-30 00:00:00\n",
      "completed 2017-07-31 00:00:00\n",
      "completed 2017-08-31 00:00:00\n",
      "completed 2017-09-29 00:00:00\n",
      "completed 2017-10-31 00:00:00\n",
      "completed 2017-11-30 00:00:00\n",
      "completed 2017-12-29 00:00:00\n",
      "completed 2018-01-31 00:00:00\n",
      "completed 2018-02-28 00:00:00\n",
      "completed 2018-03-30 00:00:00\n",
      "completed 2018-04-30 00:00:00\n",
      "completed 2018-05-31 00:00:00\n",
      "completed 2018-06-29 00:00:00\n",
      "completed 2018-07-31 00:00:00\n",
      "completed 2018-08-31 00:00:00\n",
      "completed 2018-09-28 00:00:00\n"
     ]
    },
    {
     "name": "stdout",
     "output_type": "stream",
     "text": [
      "completed 2018-10-31 00:00:00\n",
      "completed 2018-11-30 00:00:00\n",
      "completed 2018-12-31 00:00:00\n",
      "completed 2019-01-31 00:00:00\n",
      "completed 2019-02-28 00:00:00\n",
      "completed 2019-03-29 00:00:00\n",
      "completed 2019-04-30 00:00:00\n",
      "completed 2019-05-31 00:00:00\n",
      "completed 2019-06-28 00:00:00\n",
      "completed 2019-07-31 00:00:00\n",
      "completed 2019-08-30 00:00:00\n",
      "completed 2019-09-30 00:00:00\n",
      "completed 2019-10-31 00:00:00\n"
     ]
    }
   ],
   "source": [
    "frames = []\n",
    "for date in range(len(list(p.index))):\n",
    "    fields_ = fields.copy()\n",
    "    frame = pd.DataFrame(np.stack(fields_, axis=-1)[date,:,:])\n",
    "    frame.columns = [field.name for field in fields]   \n",
    "    frame.insert(0, 'companyid', list(p.columns))\n",
    "    frame.insert(0, 'date', list(p.index)[date])\n",
    "    frames.append(frame)\n",
    "    print(\"completed {}\".format(list(p.index)[date]))\n",
    "\n",
    "df = pd.concat(frames, axis=0)"
   ]
  },
  {
   "cell_type": "markdown",
   "metadata": {},
   "source": [
    "# Export Data"
   ]
  },
  {
   "cell_type": "code",
   "execution_count": 24,
   "metadata": {},
   "outputs": [],
   "source": [
    "np.save(dataFolder+'/master_initial.npy', df)\n",
    "np.save(dataFolder+'/columns_initial.npy', list(df.columns))"
   ]
  }
 ],
 "metadata": {
  "kernelspec": {
   "display_name": "Python 3",
   "language": "python",
   "name": "python3"
  },
  "language_info": {
   "codemirror_mode": {
    "name": "ipython",
    "version": 3
   },
   "file_extension": ".py",
   "mimetype": "text/x-python",
   "name": "python",
   "nbconvert_exporter": "python",
   "pygments_lexer": "ipython3",
   "version": "3.7.6"
  }
 },
 "nbformat": 4,
 "nbformat_minor": 2
}
